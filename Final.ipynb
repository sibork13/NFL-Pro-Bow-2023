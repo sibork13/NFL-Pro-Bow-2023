{
 "cells": [
  {
   "cell_type": "code",
   "execution_count": 1,
   "id": "1d2e33ca",
   "metadata": {},
   "outputs": [],
   "source": [
    "import pandas as pd\n",
    "import os\n",
    "import matplotlib.pyplot as plt\n",
    "import numpy as np\n",
    "import scipy.stats as stats\n",
    "from sklearn.cluster import KMeans\n",
    "files_path = './data/'"
   ]
  },
  {
   "cell_type": "code",
   "execution_count": 2,
   "id": "c5dc2529",
   "metadata": {},
   "outputs": [],
   "source": [
    "# get all probabilities with foul\n",
    "def make_players_prob_df(df):\n",
    "    # filtrado para tener solo linea defensiva\n",
    "    df = df[df.pff_role == 'Pass Block']\n",
    "    # get all player's id\n",
    "    #players = df.nflId.tolist()\n",
    "    players = pd.unique(df.nflId)\n",
    "    p_df = pd.DataFrame(columns=['nflId','pff_beatenByDefender_P','pff_hitAllowed_P','pff_hurryAllowed_P','pff_sackAllowed_P','foul1','foul2','foul3'])\n",
    "    for player in players:\n",
    "        aux = df[df.nflId == player]\n",
    "        aux = aux.drop_duplicates(subset=['playId'])\n",
    "        aux = aux[['pff_beatenByDefender','pff_hitAllowed','pff_hurryAllowed','pff_sackAllowed','foul1','foul2','foul3']]\n",
    "        p_aux = pd.DataFrame({'nflId':player,\n",
    "                             'pff_beatenByDefender_P':aux.pff_beatenByDefender.sum()/aux.shape[0],\n",
    "                             'pff_hitAllowed_P':aux.pff_hitAllowed.sum()/aux.shape[0],\n",
    "                             'pff_hurryAllowed_P':aux.pff_hurryAllowed.sum()/aux.shape[0],\n",
    "                             'pff_sackAllowed_P':aux.pff_sackAllowed.sum()/aux.shape[0],\n",
    "                             'foul1':aux.foul1.sum()/aux.shape[0],\n",
    "                             'foul2':aux.foul2.sum()/aux.shape[0],\n",
    "                             'foul3':aux.foul3.sum()/aux.shape[0]\n",
    "                              },index=[0])\n",
    "        p_df = pd.concat([p_df,p_aux])\n",
    "    return p_df"
   ]
  },
  {
   "cell_type": "code",
   "execution_count": 3,
   "id": "15449d35",
   "metadata": {},
   "outputs": [],
   "source": [
    "# function to get final value\n",
    "def get_metric_value(df,sf):\n",
    "    '''inputs: \n",
    "        df -> dataframe with 'pff_beatenByDefender_P','pff_hitAllowed_P','pff_hurryAllowed_P','pff_sackAllowed_P','foul1','foul2','foul3' columns\n",
    "        sf -> scale factor value\n",
    "    '''\n",
    "    aux = make_players_prob_df(df)\n",
    "    aux['p_sum'] = aux[['pff_beatenByDefender_P','pff_hitAllowed_P','pff_hurryAllowed_P','pff_sackAllowed_P','foul1','foul2','foul3']].sum(axis=1)\n",
    "    aux['p_sum_scaled'] = aux['p_sum']*sf\n",
    "    return aux"
   ]
  },
  {
   "cell_type": "code",
   "execution_count": 5,
   "id": "d82c5299",
   "metadata": {},
   "outputs": [],
   "source": [
    "def set_level(olpf):\n",
    "    if olpf <= max_psum and olpf >=end_medium:\n",
    "        level = 'HIGH'\n",
    "    elif olpf <= end_medium and olpf >=start_medium:\n",
    "        level = 'MEDIUM'\n",
    "    elif olpf <= start_medium and olpf >=min_psum:\n",
    "        level = 'LOW'\n",
    "    return level"
   ]
  },
  {
   "cell_type": "code",
   "execution_count": 123,
   "id": "912509ec",
   "metadata": {},
   "outputs": [],
   "source": [
    "#os.listdir(files_path)\n",
    "df_all = pd.read_csv(files_path+'pffScoutingData.csv')\n",
    "df_p = pd.read_csv(files_path+'plays.csv')\n",
    "player_df = pd.read_csv(files_path+'players.csv')"
   ]
  },
  {
   "cell_type": "markdown",
   "id": "16d56369",
   "metadata": {},
   "source": [
    "# Big Data Bowl 2023\n",
    "\n",
    "## Offensive Line Player Efficiency\n",
    "\n",
    "\n",
    "How we know if a player in offensive line is as good as we need?\n",
    "We can evaluate a player if has a good performance if player can stop defense most of the time. With this, we know that the player will miss some occasions but, how many misses are enough?\n",
    "How do we know if a player has an acceptable, poor or outstanding performance?  \n",
    "  \n",
    "With Offensive Line Player Efficiency (OLPE) we can know performance of every offensive player in the line.  \n",
    "\n",
    "Offensive Line Player Efficiency (OLPE) is a metric that evaluates perfomance of offensive line players in a game or even in a season. Taking all plays in a game and evaluating if play performed well or poorly based on some variables that all players in the line has.  \n",
    "\n"
   ]
  },
  {
   "cell_type": "markdown",
   "id": "742279cc",
   "metadata": {},
   "source": [
    "# Variables Used\n",
    " To calculate OLPE we will use all data containing infromation about each fail play of every player. \n",
    " To know if play count as fail to player we will take every time player allowed a sack, hit or hurry.  \n",
    "   \n",
    " Also we will take if player where beaten by defender or if player made a foul, although it means the play did not ended as sack, hurry or hit, it means that offensive line player failed to achieve the goal of his position.\n",
    " Added to  \n",
    " \n",
    " All data used takes only **two values**, **1** if is true, **0** if is false.  \n",
    "  \n",
    "<font size=\"4\">**HTA - Hit Allowed**</font>\n",
    "   * Indicator for whether they are responsible for a hit on the QB\n",
    " \n",
    "\n",
    "<font size=\"4\">**HYA - Hurry Allowed**</font>\n",
    "\n",
    "\n",
    "   * Indicator for whether they are responsible for a hurry on the QB\n",
    "  \n",
    "<font size=\"4\">**SKA - Sack Allowed** </font>\n",
    "\n",
    "   * Indicator for whether they are responsible for a sack on the QB\n",
    " \n",
    "\n",
    "<font size=\"4\"> **F1 - Foul1** </font>\n",
    "\n",
    "   * If player commited first foul during the play\n",
    " \n",
    "  \n",
    "<font size=\"4\"> **F2 - Foul2** </font>\n",
    "\n",
    "   * If player commited secod foul during the play\n",
    " \n",
    "   \n",
    "<font size=\"4\"> **F3 - Foul3**</font>\n",
    "\n",
    "   * If player commited thirt foul during the play\n",
    "     \n"
   ]
  },
  {
   "cell_type": "code",
   "execution_count": 124,
   "id": "3d989dc8",
   "metadata": {},
   "outputs": [],
   "source": [
    "# adding foul name and nflid\n",
    "for i in range(1,4):\n",
    "    foul_name = 'foulName'+str(i)\n",
    "    foul_nflid =  'foulNFLId'+str(i)\n",
    "    poss_team = 'possessionTeam'+str(i)\n",
    "    #aux_p = df_p[['playId',foul_name,foul_nflid]]  \n",
    "    aux_p = df_p[['playId','possessionTeam',foul_name,foul_nflid]]  \n",
    "    aux_p = aux_p.rename(columns={'possessionTeam':poss_team})\n",
    "    aux_p = aux_p[aux_p.playId.isin(df_all.playId.tolist())]\n",
    "    df_all = df_all.merge(aux_p,how='left',left_on=['playId','nflId'],right_on=['playId',foul_nflid])"
   ]
  },
  {
   "cell_type": "code",
   "execution_count": 125,
   "id": "75b779ca",
   "metadata": {},
   "outputs": [],
   "source": [
    "df_all['foulName1'] = df_all['foulName1'].fillna('')\n",
    "df_all['foulName2'] = df_all['foulName2'].fillna('')\n",
    "df_all['foulName3'] = df_all['foulName3'].fillna('')\n",
    "df_all['foul1'] = df_all.apply(lambda x: 0 if x['foulName1']=='' else 1, axis=1)\n",
    "df_all['foul2'] = df_all.apply(lambda x: 0 if x['foulName2']=='' else 1, axis=1)\n",
    "df_all['foul3'] = df_all.apply(lambda x: 0 if x['foulName3']=='' else 1, axis=1)"
   ]
  },
  {
   "cell_type": "markdown",
   "id": "bbc7992d",
   "metadata": {},
   "source": [
    "## Target variable\n",
    "\n",
    "we will use probability of failed play for a player considering all described variables. \n"
   ]
  },
  {
   "cell_type": "markdown",
   "id": "0c28469e",
   "metadata": {},
   "source": [
    "## Criteria:\n",
    "   * Scale factor must consider at least 95% of probability of faliure of all players  \n",
    "   * Player must have at least 10 registered plays  \n",
    "   * All plays must be unique for each player  \n",
    "   * All data must be from offensive fully blocking a defender\n",
    " "
   ]
  },
  {
   "cell_type": "code",
   "execution_count": 126,
   "id": "af8fe0c9",
   "metadata": {},
   "outputs": [],
   "source": [
    "# selecting data that complies with the conditions of use\n",
    "df_all = df_all.drop_duplicates(subset=['nflId','playId'],keep='last')\n",
    "df_aux = df_all.nflId.value_counts().rename_axis('nflId').reset_index(name='counts')\n",
    "df_aux = df_aux[df_aux.counts > 30]\n",
    "\n",
    "df_all = df_all[df_all.nflId.isin(df_aux.nflId.tolist())]\n",
    "df_all = df_all[df_all.pff_role == 'Pass Block']"
   ]
  },
  {
   "cell_type": "markdown",
   "id": "0b59a46f",
   "metadata": {},
   "source": [
    "## Model\n",
    "\n",
    "A simple model was generated using all plays where target player was to get the probability of miss in every variable.\n",
    "Since all variables are mutually exclusive events, ofensive line player failure metric ***OLPF***  is the sum of all probabilities as is shown in the formula below."
   ]
  },
  {
   "cell_type": "markdown",
   "id": "77973825",
   "metadata": {},
   "source": [
    "$$OLPF = \\left ( P(HTA) + P(HYA) + P(SKA) + P(F1) + P(F2) + P(F3) \\right ) \\ast \\beta $$"
   ]
  },
  {
   "cell_type": "markdown",
   "id": "fc4a8783",
   "metadata": {},
   "source": [
    "In terms of total plays and their results, the formula can be expressed as below  \n",
    "\n",
    "$$OLPF = \\left ( \\frac{HTA}{TP} + \\frac{HYA}{TP} + \\frac{SKA}{TP} + \\frac{F1}{TP} + \\frac{F2}{TP} + \\frac{F3}{TP} \\right )\\ast \\beta $$"
   ]
  },
  {
   "cell_type": "markdown",
   "id": "a882195e",
   "metadata": {},
   "source": [
    "where $\\beta$ is a scale factor"
   ]
  },
  {
   "cell_type": "code",
   "execution_count": 127,
   "id": "66b93cb7",
   "metadata": {},
   "outputs": [],
   "source": [
    "df = df_all\n",
    "pro_df = make_players_prob_df(df)\n",
    "pro_df['p_sum'] = pro_df[['pff_beatenByDefender_P','pff_hitAllowed_P','pff_hurryAllowed_P','pff_sackAllowed_P','foul1','foul2','foul3']].sum(axis=1)"
   ]
  },
  {
   "cell_type": "markdown",
   "id": "4691dbfb",
   "metadata": {},
   "source": [
    "## Selecting Scale Factor  \n",
    "\n",
    "Scale factor will be used to show the metric in a range between 0 to 10  \n",
    "  \n",
    "  \n",
    "We will get the value of scale factor with a simple formula  \n",
    "  \n",
    "$$\\beta = \\frac{1}{q} * 100$$  \n",
    "\n",
    "where ***q***  is maximum value until selected percentage of data\n"
   ]
  },
  {
   "cell_type": "code",
   "execution_count": 128,
   "id": "56d5cbcf",
   "metadata": {},
   "outputs": [
    {
     "data": {
      "image/png": "[encoded data removed]",
      "text/plain": [
       "<Figure size 640x480 with 1 Axes>"
      ]
     },
     "metadata": {},
     "output_type": "display_data"
    }
   ],
   "source": [
    "# Deleting outliers to get scale factor value\n",
    "bp = plt.boxplot(pro_df['p_sum'],showfliers=False)\n",
    "maxx = bp['caps'][1].get_ydata()[0]\n",
    "pro_df= pro_df[pro_df['p_sum'] <= maxx]"
   ]
  },
  {
   "cell_type": "code",
   "execution_count": 129,
   "id": "3c68414d",
   "metadata": {},
   "outputs": [
    {
     "name": "stdout",
     "output_type": "stream",
     "text": [
      "Sclae factor value:  325.0\n"
     ]
    },
    {
     "name": "stderr",
     "output_type": "stream",
     "text": [
      "/tmp/ipykernel_6364/1980769470.py:3: FutureWarning: The default value of numeric_only in DataFrame.quantile is deprecated. In a future version, it will default to False. Select only valid columns or specify the value of numeric_only to silence this warning.\n",
      "  s_f = (1/pro_df.quantile(q=q).p_sum) * 100\n"
     ]
    }
   ],
   "source": [
    "# Getting scale factor\n",
    "q = 1 # quantile\n",
    "s_f = (1/pro_df.quantile(q=q).p_sum) * 100\n",
    "print(\"Sclae factor value: \",s_f)"
   ]
  },
  {
   "cell_type": "markdown",
   "id": "9c8d0254",
   "metadata": {},
   "source": [
    "## Model results"
   ]
  },
  {
   "cell_type": "markdown",
   "id": "73392600",
   "metadata": {},
   "source": [
    "The result of probability of failure of all players are shown below"
   ]
  },
  {
   "cell_type": "code",
   "execution_count": 130,
   "id": "ae68804c",
   "metadata": {},
   "outputs": [],
   "source": [
    "#pro_df['p_sum'] = pro_df['p_sum'] * s_f\n",
    "pro_df[['pff_beatenByDefender_P', 'pff_hitAllowed_P',\n",
    "       'pff_hurryAllowed_P', 'pff_sackAllowed_P', 'foul1', 'foul2', 'foul3',\n",
    "       'p_sum']] = pro_df[['pff_beatenByDefender_P', 'pff_hitAllowed_P',\n",
    "       'pff_hurryAllowed_P', 'pff_sackAllowed_P', 'foul1', 'foul2', 'foul3',\n",
    "       'p_sum'] ]* s_f"
   ]
  },
  {
   "cell_type": "code",
   "execution_count": 131,
   "id": "e413343e",
   "metadata": {},
   "outputs": [
    {
     "data": {
      "image/png": "[encoded data removed]",
      "text/plain": [
       "<Figure size 640x480 with 1 Axes>"
      ]
     },
     "metadata": {},
     "output_type": "display_data"
    }
   ],
   "source": [
    "bp = plt.boxplot(pro_df['p_sum'],showfliers=False,patch_artist=True)\n",
    "plt.title('OLPF Metric distribution')\n",
    "plt.ylabel('Score')\n",
    "median = bp['medians'][0].get_ydata()\n",
    "max_psum = bp['caps'][1].get_ydata()[0]\n",
    "min_psum = bp['caps'][0].get_ydata()[0]\n",
    "end_medium = bp['whiskers'][1].get_ydata()[0]\n",
    "start_medium = bp['whiskers'][0].get_ydata()[0]"
   ]
  },
  {
   "cell_type": "markdown",
   "id": "61034095",
   "metadata": {},
   "source": [
    "In this case that we are measuring a metric of player failures, we can use a box plot to take advantage of the ranges shown and use them as indicators as described below."
   ]
  },
  {
   "cell_type": "markdown",
   "id": "747da93d",
   "metadata": {},
   "source": [
    "**Levels of OLPF**  \n",
    "\n",
    "**Low**\n",
    "   * When OLPF is in the range of Lowest general Score to Q1, this means the performance was outstanding\n",
    "  \n",
    "**Medium**\n",
    "   * When OLPF is in the range of Q1 to Q3, this means the performance was good \n",
    " \n",
    "**High**\n",
    "\n",
    "   * When OLPF is in the range of Q3 to maxumin general score, this means the performace was poor"
   ]
  },
  {
   "cell_type": "markdown",
   "id": "ecdd973b",
   "metadata": {},
   "source": [
    "## Verifying the number of levels"
   ]
  },
  {
   "cell_type": "markdown",
   "id": "e5b65494",
   "metadata": {},
   "source": [
    "We use the three different areas of the boxplot to create the OLPF levels based on the common use of 3 levels to measure a metric (low, medium and high).\n",
    "But for this case, we must have the levels based on the same information that the data gives us.\n",
    "For that, we will use the elbow technique with kmeans to know the number of clusters (levels) we need for the metric."
   ]
  },
  {
   "cell_type": "code",
   "execution_count": 132,
   "id": "0bdd4d86",
   "metadata": {},
   "outputs": [
    {
     "name": "stderr",
     "output_type": "stream",
     "text": [
      "/home/oscar/Documentos/Python/NFL/venv/lib/python3.9/site-packages/sklearn/cluster/_kmeans.py:870: FutureWarning: The default value of `n_init` will change from 10 to 'auto' in 1.4. Set the value of `n_init` explicitly to suppress the warning\n",
      "  warnings.warn(\n",
      "/home/oscar/Documentos/Python/NFL/venv/lib/python3.9/site-packages/sklearn/cluster/_kmeans.py:870: FutureWarning: The default value of `n_init` will change from 10 to 'auto' in 1.4. Set the value of `n_init` explicitly to suppress the warning\n",
      "  warnings.warn(\n",
      "/home/oscar/Documentos/Python/NFL/venv/lib/python3.9/site-packages/sklearn/cluster/_kmeans.py:870: FutureWarning: The default value of `n_init` will change from 10 to 'auto' in 1.4. Set the value of `n_init` explicitly to suppress the warning\n",
      "  warnings.warn(\n",
      "/home/oscar/Documentos/Python/NFL/venv/lib/python3.9/site-packages/sklearn/cluster/_kmeans.py:870: FutureWarning: The default value of `n_init` will change from 10 to 'auto' in 1.4. Set the value of `n_init` explicitly to suppress the warning\n",
      "  warnings.warn(\n",
      "/home/oscar/Documentos/Python/NFL/venv/lib/python3.9/site-packages/sklearn/cluster/_kmeans.py:870: FutureWarning: The default value of `n_init` will change from 10 to 'auto' in 1.4. Set the value of `n_init` explicitly to suppress the warning\n",
      "  warnings.warn(\n",
      "/home/oscar/Documentos/Python/NFL/venv/lib/python3.9/site-packages/sklearn/cluster/_kmeans.py:870: FutureWarning: The default value of `n_init` will change from 10 to 'auto' in 1.4. Set the value of `n_init` explicitly to suppress the warning\n",
      "  warnings.warn(\n",
      "/home/oscar/Documentos/Python/NFL/venv/lib/python3.9/site-packages/sklearn/cluster/_kmeans.py:870: FutureWarning: The default value of `n_init` will change from 10 to 'auto' in 1.4. Set the value of `n_init` explicitly to suppress the warning\n",
      "  warnings.warn(\n",
      "/home/oscar/Documentos/Python/NFL/venv/lib/python3.9/site-packages/sklearn/cluster/_kmeans.py:870: FutureWarning: The default value of `n_init` will change from 10 to 'auto' in 1.4. Set the value of `n_init` explicitly to suppress the warning\n",
      "  warnings.warn(\n",
      "/home/oscar/Documentos/Python/NFL/venv/lib/python3.9/site-packages/sklearn/cluster/_kmeans.py:870: FutureWarning: The default value of `n_init` will change from 10 to 'auto' in 1.4. Set the value of `n_init` explicitly to suppress the warning\n",
      "  warnings.warn(\n"
     ]
    },
    {
     "data": {
      "image/png": "[encoded data removed]",
      "text/plain": [
       "<Figure size 640x480 with 1 Axes>"
      ]
     },
     "metadata": {},
     "output_type": "display_data"
    }
   ],
   "source": [
    "sse = {}\n",
    "sil = []\n",
    "kmax = 10\n",
    "fig = plt.subplots(nrows = 1, ncols = 1)\n",
    "for k in range(1, 10):\n",
    "    kmeans = KMeans(n_clusters=k, max_iter=1000).fit(pro_df['p_sum'].to_numpy().reshape(-1,1))\n",
    "    sse[k] = kmeans.inertia_ \n",
    "plt.plot(list(sse.keys()),list(sse.values()));\n",
    "plt.title('Elbow Method')\n",
    "plt.xlabel(\"k : Number of cluster\")\n",
    "plt.ylabel(\"Sum of Squared Error\")\n",
    "plt.grid()\n",
    "plt.show()"
   ]
  },
  {
   "cell_type": "markdown",
   "id": "87b82457",
   "metadata": {},
   "source": [
    "The graph above show that the sum of squared error changes drastically until have 3 clusters, from there the change is much less, so we can say that the optimun number of clusters is three  \n",
    "\n",
    "Now, let's see where is the position of the clusters"
   ]
  },
  {
   "cell_type": "code",
   "execution_count": 133,
   "id": "e1b0de4f",
   "metadata": {},
   "outputs": [
    {
     "data": {
      "text/html": [
       "<style>#sk-container-id-5 {color: black;background-color: white;}#sk-container-id-5 pre{padding: 0;}#sk-container-id-5 div.sk-toggleable {background-color: white;}#sk-container-id-5 label.sk-toggleable__label {cursor: pointer;display: block;width: 100%;margin-bottom: 0;padding: 0.3em;box-sizing: border-box;text-align: center;}#sk-container-id-5 label.sk-toggleable__label-arrow:before {content: \"▸\";float: left;margin-right: 0.25em;color: #696969;}#sk-container-id-5 label.sk-toggleable__label-arrow:hover:before {color: black;}#sk-container-id-5 div.sk-estimator:hover label.sk-toggleable__label-arrow:before {color: black;}#sk-container-id-5 div.sk-toggleable__content {max-height: 0;max-width: 0;overflow: hidden;text-align: left;background-color: #f0f8ff;}#sk-container-id-5 div.sk-toggleable__content pre {margin: 0.2em;color: black;border-radius: 0.25em;background-color: #f0f8ff;}#sk-container-id-5 input.sk-toggleable__control:checked~div.sk-toggleable__content {max-height: 200px;max-width: 100%;overflow: auto;}#sk-container-id-5 input.sk-toggleable__control:checked~label.sk-toggleable__label-arrow:before {content: \"▾\";}#sk-container-id-5 div.sk-estimator input.sk-toggleable__control:checked~label.sk-toggleable__label {background-color: #d4ebff;}#sk-container-id-5 div.sk-label input.sk-toggleable__control:checked~label.sk-toggleable__label {background-color: #d4ebff;}#sk-container-id-5 input.sk-hidden--visually {border: 0;clip: rect(1px 1px 1px 1px);clip: rect(1px, 1px, 1px, 1px);height: 1px;margin: -1px;overflow: hidden;padding: 0;position: absolute;width: 1px;}#sk-container-id-5 div.sk-estimator {font-family: monospace;background-color: #f0f8ff;border: 1px dotted black;border-radius: 0.25em;box-sizing: border-box;margin-bottom: 0.5em;}#sk-container-id-5 div.sk-estimator:hover {background-color: #d4ebff;}#sk-container-id-5 div.sk-parallel-item::after {content: \"\";width: 100%;border-bottom: 1px solid gray;flex-grow: 1;}#sk-container-id-5 div.sk-label:hover label.sk-toggleable__label {background-color: #d4ebff;}#sk-container-id-5 div.sk-serial::before {content: \"\";position: absolute;border-left: 1px solid gray;box-sizing: border-box;top: 0;bottom: 0;left: 50%;z-index: 0;}#sk-container-id-5 div.sk-serial {display: flex;flex-direction: column;align-items: center;background-color: white;padding-right: 0.2em;padding-left: 0.2em;position: relative;}#sk-container-id-5 div.sk-item {position: relative;z-index: 1;}#sk-container-id-5 div.sk-parallel {display: flex;align-items: stretch;justify-content: center;background-color: white;position: relative;}#sk-container-id-5 div.sk-item::before, #sk-container-id-5 div.sk-parallel-item::before {content: \"\";position: absolute;border-left: 1px solid gray;box-sizing: border-box;top: 0;bottom: 0;left: 50%;z-index: -1;}#sk-container-id-5 div.sk-parallel-item {display: flex;flex-direction: column;z-index: 1;position: relative;background-color: white;}#sk-container-id-5 div.sk-parallel-item:first-child::after {align-self: flex-end;width: 50%;}#sk-container-id-5 div.sk-parallel-item:last-child::after {align-self: flex-start;width: 50%;}#sk-container-id-5 div.sk-parallel-item:only-child::after {width: 0;}#sk-container-id-5 div.sk-dashed-wrapped {border: 1px dashed gray;margin: 0 0.4em 0.5em 0.4em;box-sizing: border-box;padding-bottom: 0.4em;background-color: white;}#sk-container-id-5 div.sk-label label {font-family: monospace;font-weight: bold;display: inline-block;line-height: 1.2em;}#sk-container-id-5 div.sk-label-container {text-align: center;}#sk-container-id-5 div.sk-container {/* jupyter's `normalize.less` sets `[hidden] { display: none; }` but bootstrap.min.css set `[hidden] { display: none !important; }` so we also need the `!important` here to be able to override the default hidden behavior on the sphinx rendered scikit-learn.org. See: https://github.com/scikit-learn/scikit-learn/issues/21755 */display: inline-block !important;position: relative;}#sk-container-id-5 div.sk-text-repr-fallback {display: none;}</style><div id=\"sk-container-id-5\" class=\"sk-top-container\"><div class=\"sk-text-repr-fallback\"><pre>KMeans(n_clusters=3, n_init=25, random_state=123)</pre><b>In a Jupyter environment, please rerun this cell to show the HTML representation or trust the notebook. <br />On GitHub, the HTML representation is unable to render, please try loading this page with nbviewer.org.</b></div><div class=\"sk-container\" hidden><div class=\"sk-item\"><div class=\"sk-estimator sk-toggleable\"><input class=\"sk-toggleable__control sk-hidden--visually\" id=\"sk-estimator-id-5\" type=\"checkbox\" checked><label for=\"sk-estimator-id-5\" class=\"sk-toggleable__label sk-toggleable__label-arrow\">KMeans</label><div class=\"sk-toggleable__content\"><pre>KMeans(n_clusters=3, n_init=25, random_state=123)</pre></div></div></div></div></div>"
      ],
      "text/plain": [
       "KMeans(n_clusters=3, n_init=25, random_state=123)"
      ]
     },
     "execution_count": 133,
     "metadata": {},
     "output_type": "execute_result"
    }
   ],
   "source": [
    "modelo_kmeans = KMeans(n_clusters=3, n_init=25, random_state=123)\n",
    "modelo_kmeans.fit(pro_df['p_sum'].to_numpy().reshape(-1,1))\n",
    "#modelo_kmeans.cluster_centers_"
   ]
  },
  {
   "cell_type": "code",
   "execution_count": 134,
   "id": "03c54d14",
   "metadata": {},
   "outputs": [
    {
     "data": {
      "text/plain": [
       "Text(0, 0.5, 'Score')"
      ]
     },
     "execution_count": 134,
     "metadata": {},
     "output_type": "execute_result"
    },
    {
     "data": {
      "image/png": "[encoded data removed]",
      "text/plain": [
       "<Figure size 640x480 with 1 Axes>"
      ]
     },
     "metadata": {},
     "output_type": "display_data"
    }
   ],
   "source": [
    "plt.boxplot(pro_df['p_sum'].to_numpy().reshape(-1,1),showfliers=False,patch_artist=True)\n",
    "plt.plot(np.ones(3),modelo_kmeans.cluster_centers_,'ro')\n",
    "plt.title('Clusters of OLPF')\n",
    "plt.ylabel('Score')"
   ]
  },
  {
   "cell_type": "markdown",
   "id": "c4c29f9f",
   "metadata": {},
   "source": [
    "## Using the model"
   ]
  },
  {
   "cell_type": "markdown",
   "id": "3bce31ff",
   "metadata": {},
   "source": [
    "### Rating player performance"
   ]
  },
  {
   "cell_type": "markdown",
   "id": "971e6520",
   "metadata": {},
   "source": [
    "In this case of use we will check the performance in a week and in 8 weeks"
   ]
  },
  {
   "cell_type": "markdown",
   "id": "0ebe1f33",
   "metadata": {},
   "source": [
    "#### Performance in week 1"
   ]
  },
  {
   "cell_type": "code",
   "execution_count": 135,
   "id": "7f5b567c",
   "metadata": {},
   "outputs": [],
   "source": [
    "# Rating player performance first week\n",
    "df_w = pd.read_csv(files_path+'week1.csv')"
   ]
  },
  {
   "cell_type": "code",
   "execution_count": 136,
   "id": "f7c4df06",
   "metadata": {},
   "outputs": [
    {
     "data": {
      "text/html": [
       "<div>\n",
       "<style scoped>\n",
       "    .dataframe tbody tr th:only-of-type {\n",
       "        vertical-align: middle;\n",
       "    }\n",
       "\n",
       "    .dataframe tbody tr th {\n",
       "        vertical-align: top;\n",
       "    }\n",
       "\n",
       "    .dataframe thead th {\n",
       "        text-align: right;\n",
       "    }\n",
       "</style>\n",
       "<table border=\"1\" class=\"dataframe\">\n",
       "  <thead>\n",
       "    <tr style=\"text-align: right;\">\n",
       "      <th></th>\n",
       "      <th>nflId</th>\n",
       "      <th>height</th>\n",
       "      <th>weight</th>\n",
       "      <th>birthDate</th>\n",
       "      <th>collegeName</th>\n",
       "      <th>officialPosition</th>\n",
       "      <th>displayName</th>\n",
       "    </tr>\n",
       "  </thead>\n",
       "  <tbody>\n",
       "    <tr>\n",
       "      <th>1507</th>\n",
       "      <td>53471</td>\n",
       "      <td>6-6</td>\n",
       "      <td>308</td>\n",
       "      <td>NaN</td>\n",
       "      <td>NaN</td>\n",
       "      <td>T</td>\n",
       "      <td>Liam Eichenberg</td>\n",
       "    </tr>\n",
       "  </tbody>\n",
       "</table>\n",
       "</div>"
      ],
      "text/plain": [
       "      nflId height  weight birthDate collegeName officialPosition  \\\n",
       "1507  53471    6-6     308       NaN         NaN                T   \n",
       "\n",
       "          displayName  \n",
       "1507  Liam Eichenberg  "
      ]
     },
     "execution_count": 136,
     "metadata": {},
     "output_type": "execute_result"
    }
   ],
   "source": [
    "# target player\n",
    "player_df[player_df.nflId == 53471]"
   ]
  },
  {
   "cell_type": "code",
   "execution_count": 137,
   "id": "0b97677e",
   "metadata": {},
   "outputs": [],
   "source": [
    "# getting all playId from week1 with nflId\n",
    "w1_plays = pd.unique(df_w[df_w.nflId == 53471]['playId']).tolist()\n",
    "# extract pffScoutingData with all playIds \n",
    "week1 = df_all[(df_all.playId.isin(w1_plays)) & (df_all.nflId == 53471 )]"
   ]
  },
  {
   "cell_type": "code",
   "execution_count": 138,
   "id": "cfefedcc",
   "metadata": {},
   "outputs": [
    {
     "data": {
      "text/plain": [
       "[68.42105263157895]"
      ]
     },
     "execution_count": 138,
     "metadata": {},
     "output_type": "execute_result"
    }
   ],
   "source": [
    "p_sum = get_metric_value(week1,s_f)['p_sum_scaled'][0]\n",
    "p_sum = [p_sum]\n",
    "p_sum"
   ]
  },
  {
   "cell_type": "code",
   "execution_count": 139,
   "id": "2cd90e9e",
   "metadata": {},
   "outputs": [
    {
     "data": {
      "image/png": "[encoded data removed]",
      "text/plain": [
       "<Figure size 640x480 with 1 Axes>"
      ]
     },
     "metadata": {},
     "output_type": "display_data"
    }
   ],
   "source": [
    "plt.boxplot(pro_df['p_sum'].to_numpy().reshape(-1,1),showfliers=False,patch_artist=True)\n",
    "plt.plot(np.ones(len(p_sum)),p_sum,'ro')\n",
    "plt.title(\"Player's OLPF level\")\n",
    "plt.ylabel('Score')\n",
    "plt.show()"
   ]
  },
  {
   "cell_type": "markdown",
   "id": "a3175da3",
   "metadata": {},
   "source": [
    "**How to read**  \n",
    "\n",
    "As we can see, metric of target player is in high section, this means that player had a bad performance in target week  \n",
    "\n",
    "To this metric, we want score as low as possible to be a outstanding player, but if the OLPF falls into medium level (and it will be like this most of the time) it's also good"
   ]
  },
  {
   "cell_type": "markdown",
   "id": "9f0a6d59",
   "metadata": {},
   "source": [
    "#### Performance in 8 weeks"
   ]
  },
  {
   "cell_type": "code",
   "execution_count": 140,
   "id": "9f4d1fef",
   "metadata": {},
   "outputs": [],
   "source": [
    "weeks_df_list = list()\n",
    "nflid = 53471\n",
    "for i in range(1,9):\n",
    "    df = pd.read_csv(files_path+'week'+str(i)+'.csv')\n",
    "    df = df[df.nflId == nflid]\n",
    "    # getting all playId from week1 with nflId\n",
    "    w_plays = pd.unique(df[df.nflId == nflid]['playId']).tolist()\n",
    "    # extract pffScoutingData with all playIds \n",
    "    week = df_all[(df_all.playId.isin(w_plays)) & (df_all.nflId == nflid )]\n",
    "    df = get_metric_value(week,s_f)['p_sum_scaled'].to_frame()\n",
    "    df['week'] = i\n",
    "    weeks_df_list.append(df)\n",
    "    if i == 8:\n",
    "        df = pd.concat(weeks_df_list)\n",
    "        \n",
    "        "
   ]
  },
  {
   "cell_type": "code",
   "execution_count": 141,
   "id": "02805b5c",
   "metadata": {},
   "outputs": [
    {
     "data": {
      "image/png": "[encoded data removed]",
      "text/plain": [
       "<Figure size 640x480 with 1 Axes>"
      ]
     },
     "metadata": {},
     "output_type": "display_data"
    }
   ],
   "source": [
    "plt.plot(df.week,df.p_sum_scaled,'ro')\n",
    "plt.plot(df.week,df.p_sum_scaled)\n",
    "plt.title(r'Player performance during 8 weeks')\n",
    "plt.xlabel('Week')\n",
    "plt.ylabel('Probability of failure (scaled)')\n",
    "plt.show()"
   ]
  },
  {
   "cell_type": "markdown",
   "id": "0a52d295",
   "metadata": {},
   "source": [
    "Player's P(f) (as we can expect) in some cases is better than otherones but in most cases is high score, let's see mean "
   ]
  },
  {
   "cell_type": "code",
   "execution_count": 142,
   "id": "42dd9815",
   "metadata": {},
   "outputs": [
    {
     "data": {
      "image/png": "[encoded data removed]",
      "text/plain": [
       "<Figure size 640x480 with 1 Axes>"
      ]
     },
     "metadata": {},
     "output_type": "display_data"
    }
   ],
   "source": [
    "player_mean = df.describe().iloc[1]['p_sum_scaled']\n",
    "#y0 = [np.interp(player_mean,x * s_f,density(x))]\n",
    "x0 = [player_mean]\n",
    "\n",
    "plt.boxplot(pro_df['p_sum'].to_numpy().reshape(-1,1),showfliers=False,patch_artist=True)\n",
    "plt.plot(np.ones(len(x0)),x0,'ro')\n",
    "plt.title(\"Player's OLPF level for 8 weeks\")\n",
    "plt.ylabel('Score')\n",
    "plt.show()"
   ]
  },
  {
   "cell_type": "markdown",
   "id": "0d39ca37",
   "metadata": {},
   "source": [
    "As we can see, the mean of the 8 weeks is **67.8** and this is over the 75% OLPF. With this now we know player needs to improve his performance during plays"
   ]
  },
  {
   "cell_type": "markdown",
   "id": "fed64fe5",
   "metadata": {},
   "source": [
    "### Team players ranking"
   ]
  },
  {
   "cell_type": "code",
   "execution_count": 143,
   "id": "e5b9f43b",
   "metadata": {},
   "outputs": [],
   "source": [
    "test_df = pro_df.copy()"
   ]
  },
  {
   "cell_type": "code",
   "execution_count": 144,
   "id": "a954d4a7",
   "metadata": {},
   "outputs": [],
   "source": [
    "# getting team per nflId\n",
    "for j in range(1,9):\n",
    "    if j==1:\n",
    "        df_w = pd.read_csv(files_path+'week'+str(j)+'.csv')\n",
    "        pass\n",
    "    else:\n",
    "        df_aux = pd.read_csv(files_path+'week'+str(j)+'.csv')\n",
    "    df_w = pd.concat([df_w,df_aux])"
   ]
  },
  {
   "cell_type": "code",
   "execution_count": 145,
   "id": "7f41ea77",
   "metadata": {},
   "outputs": [],
   "source": [
    "df_w = df_w.drop_duplicates(subset=['nflId'],keep='last')\n",
    "df_w = df_w[['nflId','team']]\n",
    "team_p = test_df.merge(df_w,on='nflId')\n",
    "team_p = team_p[~team_p.team.isna()]\n",
    "player_df = player_df[['nflId','displayName']]\n",
    "team_p = team_p.merge(player_df,on='nflId')"
   ]
  },
  {
   "cell_type": "code",
   "execution_count": 146,
   "id": "5d95665a",
   "metadata": {},
   "outputs": [
    {
     "data": {
      "text/html": [
       "<div>\n",
       "<style scoped>\n",
       "    .dataframe tbody tr th:only-of-type {\n",
       "        vertical-align: middle;\n",
       "    }\n",
       "\n",
       "    .dataframe tbody tr th {\n",
       "        vertical-align: top;\n",
       "    }\n",
       "\n",
       "    .dataframe thead th {\n",
       "        text-align: right;\n",
       "    }\n",
       "</style>\n",
       "<table border=\"1\" class=\"dataframe\">\n",
       "  <thead>\n",
       "    <tr style=\"text-align: right;\">\n",
       "      <th></th>\n",
       "      <th>displayName</th>\n",
       "      <th>OLPF</th>\n",
       "    </tr>\n",
       "  </thead>\n",
       "  <tbody>\n",
       "    <tr>\n",
       "      <th>205</th>\n",
       "      <td>Myles Gaskin</td>\n",
       "      <td>79.054054</td>\n",
       "    </tr>\n",
       "    <tr>\n",
       "      <th>202</th>\n",
       "      <td>Liam Eichenberg</td>\n",
       "      <td>67.805755</td>\n",
       "    </tr>\n",
       "    <tr>\n",
       "      <th>198</th>\n",
       "      <td>Jesse Davis</td>\n",
       "      <td>65.909091</td>\n",
       "    </tr>\n",
       "    <tr>\n",
       "      <th>302</th>\n",
       "      <td>Austin Jackson</td>\n",
       "      <td>58.362676</td>\n",
       "    </tr>\n",
       "    <tr>\n",
       "      <th>201</th>\n",
       "      <td>Solomon Kindley</td>\n",
       "      <td>48.750000</td>\n",
       "    </tr>\n",
       "    <tr>\n",
       "      <th>301</th>\n",
       "      <td>Durham Smythe</td>\n",
       "      <td>39.000000</td>\n",
       "    </tr>\n",
       "    <tr>\n",
       "      <th>345</th>\n",
       "      <td>Adam Shaheen</td>\n",
       "      <td>32.500000</td>\n",
       "    </tr>\n",
       "    <tr>\n",
       "      <th>200</th>\n",
       "      <td>Robert Hunt</td>\n",
       "      <td>31.105611</td>\n",
       "    </tr>\n",
       "    <tr>\n",
       "      <th>392</th>\n",
       "      <td>Austin Reiter</td>\n",
       "      <td>29.545455</td>\n",
       "    </tr>\n",
       "    <tr>\n",
       "      <th>199</th>\n",
       "      <td>Michael Deiter</td>\n",
       "      <td>22.608696</td>\n",
       "    </tr>\n",
       "    <tr>\n",
       "      <th>358</th>\n",
       "      <td>Greg Mancz</td>\n",
       "      <td>19.782609</td>\n",
       "    </tr>\n",
       "    <tr>\n",
       "      <th>206</th>\n",
       "      <td>Malcolm Brown</td>\n",
       "      <td>7.558140</td>\n",
       "    </tr>\n",
       "    <tr>\n",
       "      <th>304</th>\n",
       "      <td>Salvon Ahmed</td>\n",
       "      <td>0.000000</td>\n",
       "    </tr>\n",
       "  </tbody>\n",
       "</table>\n",
       "</div>"
      ],
      "text/plain": [
       "         displayName       OLPF\n",
       "205     Myles Gaskin  79.054054\n",
       "202  Liam Eichenberg  67.805755\n",
       "198      Jesse Davis  65.909091\n",
       "302   Austin Jackson  58.362676\n",
       "201  Solomon Kindley  48.750000\n",
       "301    Durham Smythe  39.000000\n",
       "345     Adam Shaheen  32.500000\n",
       "200      Robert Hunt  31.105611\n",
       "392    Austin Reiter  29.545455\n",
       "199   Michael Deiter  22.608696\n",
       "358       Greg Mancz  19.782609\n",
       "206    Malcolm Brown   7.558140\n",
       "304     Salvon Ahmed   0.000000"
      ]
     },
     "execution_count": 146,
     "metadata": {},
     "output_type": "execute_result"
    }
   ],
   "source": [
    "mia_df = team_p[team_p.team == 'MIA'].sort_values(by='p_sum',ascending=False)[['displayName','p_sum']]\n",
    "mia_df = mia_df.rename(columns={'p_sum':'OLPF'})\n",
    "mia_df"
   ]
  },
  {
   "cell_type": "code",
   "execution_count": 147,
   "id": "dc50d936",
   "metadata": {},
   "outputs": [],
   "source": [
    "mia_df['level'] = ''"
   ]
  },
  {
   "cell_type": "code",
   "execution_count": 148,
   "id": "787df2f0",
   "metadata": {},
   "outputs": [],
   "source": [
    "mia_df['level'] = mia_df.OLPF.map(lambda x: set_level(x))"
   ]
  },
  {
   "cell_type": "code",
   "execution_count": 149,
   "id": "c7173792",
   "metadata": {},
   "outputs": [],
   "source": [
    "mia_pie = mia_df.groupby('level').count()[['displayName']]"
   ]
  },
  {
   "cell_type": "code",
   "execution_count": 150,
   "id": "50dd5420",
   "metadata": {},
   "outputs": [
    {
     "data": {
      "text/plain": [
       "Text(0.5, 1.0, \"Miami player's levels \")"
      ]
     },
     "execution_count": 150,
     "metadata": {},
     "output_type": "execute_result"
    },
    {
     "data": {
      "image/png": "[encoded data removed]",
      "text/plain": [
       "<Figure size 640x480 with 1 Axes>"
      ]
     },
     "metadata": {},
     "output_type": "display_data"
    }
   ],
   "source": [
    "explode = (0.1, 0.1, 0.1)\n",
    "colors = ['red','blue','orange']\n",
    "plt.pie(mia_pie['displayName'].tolist(), explode=explode,labels=mia_pie.index, autopct='%1.1f%%',\n",
    "        shadow=True,colors=colors)\n",
    "plt.title(\"Miami player's levels \")"
   ]
  },
  {
   "cell_type": "code",
   "execution_count": null,
   "id": "84119b47",
   "metadata": {},
   "outputs": [],
   "source": []
  },
  {
   "cell_type": "code",
   "execution_count": null,
   "id": "ca2b04ad",
   "metadata": {},
   "outputs": [],
   "source": []
  },
  {
   "cell_type": "code",
   "execution_count": null,
   "id": "533ffc2e",
   "metadata": {},
   "outputs": [],
   "source": []
  },
  {
   "cell_type": "code",
   "execution_count": null,
   "id": "3bb54d4e",
   "metadata": {},
   "outputs": [],
   "source": []
  },
  {
   "cell_type": "markdown",
   "id": "aba28c6b",
   "metadata": {},
   "source": [
    "# ###############"
   ]
  },
  {
   "cell_type": "code",
   "execution_count": 33,
   "id": "86393c8c",
   "metadata": {},
   "outputs": [],
   "source": [
    "density = stats.gaussian_kde(pro_df['p_sum'])"
   ]
  },
  {
   "cell_type": "code",
   "execution_count": 34,
   "id": "c048659c",
   "metadata": {},
   "outputs": [],
   "source": [
    "a = pro_df['p_sum'].tolist()\n",
    "bins = np.linspace(0, 1, 400)\n",
    "n, x = np.histogram(np.array(a), bins,density=True)"
   ]
  },
  {
   "cell_type": "code",
   "execution_count": 35,
   "id": "9e63b22f",
   "metadata": {},
   "outputs": [
    {
     "data": {
      "image/png": "[encoded data removed]",
      "text/plain": [
       "<Figure size 640x480 with 1 Axes>"
      ]
     },
     "metadata": {},
     "output_type": "display_data"
    }
   ],
   "source": [
    "plt.title('Distribution of probability of failure for all players')\n",
    "plt.xlabel('Probability of failure without scale factor')\n",
    "plt.ylabel('Density')\n",
    "plt.plot(x, density(x))\n",
    "#plt.fill(x, density(x))\n",
    "plt.show()"
   ]
  },
  {
   "cell_type": "code",
   "execution_count": 36,
   "id": "bfbe6999",
   "metadata": {},
   "outputs": [
    {
     "data": {
      "text/html": [
       "<div>\n",
       "<style scoped>\n",
       "    .dataframe tbody tr th:only-of-type {\n",
       "        vertical-align: middle;\n",
       "    }\n",
       "\n",
       "    .dataframe tbody tr th {\n",
       "        vertical-align: top;\n",
       "    }\n",
       "\n",
       "    .dataframe thead th {\n",
       "        text-align: right;\n",
       "    }\n",
       "</style>\n",
       "<table border=\"1\" class=\"dataframe\">\n",
       "  <thead>\n",
       "    <tr style=\"text-align: right;\">\n",
       "      <th></th>\n",
       "      <th>pff_beatenByDefender_P</th>\n",
       "      <th>pff_hitAllowed_P</th>\n",
       "      <th>pff_hurryAllowed_P</th>\n",
       "      <th>pff_sackAllowed_P</th>\n",
       "      <th>foul1</th>\n",
       "      <th>foul2</th>\n",
       "      <th>foul3</th>\n",
       "      <th>p_sum</th>\n",
       "    </tr>\n",
       "  </thead>\n",
       "  <tbody>\n",
       "    <tr>\n",
       "      <th>count</th>\n",
       "      <td>401.000000</td>\n",
       "      <td>401.000000</td>\n",
       "      <td>401.000000</td>\n",
       "      <td>401.000000</td>\n",
       "      <td>401.000000</td>\n",
       "      <td>401.000000</td>\n",
       "      <td>401.0</td>\n",
       "      <td>401.000000</td>\n",
       "    </tr>\n",
       "    <tr>\n",
       "      <th>mean</th>\n",
       "      <td>13.109288</td>\n",
       "      <td>4.189988</td>\n",
       "      <td>14.681187</td>\n",
       "      <td>3.410118</td>\n",
       "      <td>1.098149</td>\n",
       "      <td>0.059103</td>\n",
       "      <td>0.0</td>\n",
       "      <td>36.547833</td>\n",
       "    </tr>\n",
       "    <tr>\n",
       "      <th>std</th>\n",
       "      <td>12.823350</td>\n",
       "      <td>7.296916</td>\n",
       "      <td>14.022102</td>\n",
       "      <td>7.068049</td>\n",
       "      <td>2.895803</td>\n",
       "      <td>0.789679</td>\n",
       "      <td>0.0</td>\n",
       "      <td>23.313014</td>\n",
       "    </tr>\n",
       "    <tr>\n",
       "      <th>min</th>\n",
       "      <td>0.000000</td>\n",
       "      <td>0.000000</td>\n",
       "      <td>0.000000</td>\n",
       "      <td>0.000000</td>\n",
       "      <td>0.000000</td>\n",
       "      <td>0.000000</td>\n",
       "      <td>0.0</td>\n",
       "      <td>0.000000</td>\n",
       "    </tr>\n",
       "    <tr>\n",
       "      <th>25%</th>\n",
       "      <td>0.000000</td>\n",
       "      <td>0.000000</td>\n",
       "      <td>5.416667</td>\n",
       "      <td>0.000000</td>\n",
       "      <td>0.000000</td>\n",
       "      <td>0.000000</td>\n",
       "      <td>0.0</td>\n",
       "      <td>21.875000</td>\n",
       "    </tr>\n",
       "    <tr>\n",
       "      <th>50%</th>\n",
       "      <td>11.798680</td>\n",
       "      <td>1.354167</td>\n",
       "      <td>12.500000</td>\n",
       "      <td>0.000000</td>\n",
       "      <td>0.000000</td>\n",
       "      <td>0.000000</td>\n",
       "      <td>0.0</td>\n",
       "      <td>34.210526</td>\n",
       "    </tr>\n",
       "    <tr>\n",
       "      <th>75%</th>\n",
       "      <td>19.243421</td>\n",
       "      <td>5.416667</td>\n",
       "      <td>20.312500</td>\n",
       "      <td>3.367876</td>\n",
       "      <td>1.305221</td>\n",
       "      <td>0.000000</td>\n",
       "      <td>0.0</td>\n",
       "      <td>47.879464</td>\n",
       "    </tr>\n",
       "    <tr>\n",
       "      <th>max</th>\n",
       "      <td>76.470588</td>\n",
       "      <td>54.166667</td>\n",
       "      <td>90.277778</td>\n",
       "      <td>65.000000</td>\n",
       "      <td>29.545455</td>\n",
       "      <td>15.476190</td>\n",
       "      <td>0.0</td>\n",
       "      <td>100.000000</td>\n",
       "    </tr>\n",
       "  </tbody>\n",
       "</table>\n",
       "</div>"
      ],
      "text/plain": [
       "       pff_beatenByDefender_P  pff_hitAllowed_P  pff_hurryAllowed_P  \\\n",
       "count              401.000000        401.000000          401.000000   \n",
       "mean                13.109288          4.189988           14.681187   \n",
       "std                 12.823350          7.296916           14.022102   \n",
       "min                  0.000000          0.000000            0.000000   \n",
       "25%                  0.000000          0.000000            5.416667   \n",
       "50%                 11.798680          1.354167           12.500000   \n",
       "75%                 19.243421          5.416667           20.312500   \n",
       "max                 76.470588         54.166667           90.277778   \n",
       "\n",
       "       pff_sackAllowed_P       foul1       foul2  foul3       p_sum  \n",
       "count         401.000000  401.000000  401.000000  401.0  401.000000  \n",
       "mean            3.410118    1.098149    0.059103    0.0   36.547833  \n",
       "std             7.068049    2.895803    0.789679    0.0   23.313014  \n",
       "min             0.000000    0.000000    0.000000    0.0    0.000000  \n",
       "25%             0.000000    0.000000    0.000000    0.0   21.875000  \n",
       "50%             0.000000    0.000000    0.000000    0.0   34.210526  \n",
       "75%             3.367876    1.305221    0.000000    0.0   47.879464  \n",
       "max            65.000000   29.545455   15.476190    0.0  100.000000  "
      ]
     },
     "execution_count": 36,
     "metadata": {},
     "output_type": "execute_result"
    }
   ],
   "source": [
    "pro_df.describe()"
   ]
  },
  {
   "cell_type": "markdown",
   "id": "d882ebae",
   "metadata": {},
   "source": [
    "Show only our area of interest, in this case we will use the 98% of all data"
   ]
  },
  {
   "cell_type": "code",
   "execution_count": 37,
   "id": "41ae6be2",
   "metadata": {
    "scrolled": true
   },
   "outputs": [
    {
     "name": "stderr",
     "output_type": "stream",
     "text": [
      "/tmp/ipykernel_6364/2728554946.py:7: FutureWarning: The default value of numeric_only in DataFrame.quantile is deprecated. In a future version, it will default to False. Select only valid columns or specify the value of numeric_only to silence this warning.\n",
      "  plt.axis([0, pro_df.quantile(q=q).p_sum * s_f, 0, 10])\n"
     ]
    },
    {
     "data": {
      "image/png": "[encoded data removed]",
      "text/plain": [
       "<Figure size 640x480 with 1 Axes>"
      ]
     },
     "metadata": {},
     "output_type": "display_data"
    }
   ],
   "source": [
    "plt.title(r'98% of distribution of P(f) using scale factor $\\beta$')\n",
    "plt.xlabel('Probability of failure')\n",
    "plt.ylabel('Density')\n",
    "#plt.ylabel('Number of players $x10^{3}$')\n",
    "plt.plot(x * s_f, density(x))\n",
    "#plt.fill(x, density(x))\n",
    "plt.axis([0, pro_df.quantile(q=q).p_sum * s_f, 0, 10])\n",
    "plt.show()"
   ]
  },
  {
   "cell_type": "code",
   "execution_count": null,
   "id": "9c3f8ff7",
   "metadata": {},
   "outputs": [],
   "source": []
  },
  {
   "cell_type": "code",
   "execution_count": null,
   "id": "c881ecc2",
   "metadata": {},
   "outputs": [],
   "source": []
  },
  {
   "cell_type": "code",
   "execution_count": null,
   "id": "939f1387",
   "metadata": {},
   "outputs": [],
   "source": []
  },
  {
   "cell_type": "code",
   "execution_count": null,
   "id": "6af2c869",
   "metadata": {},
   "outputs": [],
   "source": []
  },
  {
   "cell_type": "code",
   "execution_count": null,
   "id": "a50ee7f8",
   "metadata": {},
   "outputs": [],
   "source": []
  },
  {
   "cell_type": "code",
   "execution_count": 38,
   "id": "be324fbd",
   "metadata": {},
   "outputs": [
    {
     "name": "stderr",
     "output_type": "stream",
     "text": [
      "/tmp/ipykernel_6364/1212126830.py:10: FutureWarning: The default value of numeric_only in DataFrame.quantile is deprecated. In a future version, it will default to False. Select only valid columns or specify the value of numeric_only to silence this warning.\n",
      "  plt.axis([0, pro_df.quantile(q=q).p_sum * s_f, 0, 10])\n"
     ]
    },
    {
     "data": {
      "image/png": "[encoded data removed]",
      "text/plain": [
       "<Figure size 640x480 with 1 Axes>"
      ]
     },
     "metadata": {},
     "output_type": "display_data"
    }
   ],
   "source": [
    "p_sum = get_metric_value(week1,s_f)['p_sum_scaled'][0]\n",
    "y0 = [np.interp(p_sum,x * s_f,density(x))]\n",
    "x0 = [p_sum]\n",
    "plt.title('P(f) of the player within the distribution')\n",
    "plt.xlabel('Probability of failure P(f)')\n",
    "plt.ylabel('Density')\n",
    "plt.plot(x * s_f, density(x))\n",
    "plt.plot(x0,y0,'ro')\n",
    "plt.legend(['P(f) distribution with scale factor',\"Player's P(f)\"])\n",
    "plt.axis([0, pro_df.quantile(q=q).p_sum * s_f, 0, 10])\n",
    "plt.show()"
   ]
  },
  {
   "cell_type": "markdown",
   "id": "046973f5",
   "metadata": {},
   "source": [
    "We can see that player is over top 75% (top 75 is 0.33) players with most failures in plays in this week."
   ]
  },
  {
   "cell_type": "markdown",
   "id": "99a37db8",
   "metadata": {},
   "source": [
    "### Team ranking"
   ]
  },
  {
   "cell_type": "markdown",
   "id": "b6cba172",
   "metadata": {},
   "source": [
    "We will use the model to assign a score to all the teams using the failure probability of all their players and thus create a ranking where the first on the list will be the team with the most failures by their players."
   ]
  },
  {
   "cell_type": "code",
   "execution_count": 39,
   "id": "10ea1564",
   "metadata": {},
   "outputs": [
    {
     "name": "stderr",
     "output_type": "stream",
     "text": [
      "/tmp/ipykernel_6364/4257440253.py:2: FutureWarning: The default value of numeric_only in DataFrame.quantile is deprecated. In a future version, it will default to False. Select only valid columns or specify the value of numeric_only to silence this warning.\n",
      "  test_df = pro_df[pro_df.p_sum < pro_df.quantile(q=q).p_sum]\n"
     ]
    }
   ],
   "source": [
    "# Getting players in the 98%\n",
    "test_df = pro_df[pro_df.p_sum < pro_df.quantile(q=q).p_sum]"
   ]
  },
  {
   "cell_type": "code",
   "execution_count": 40,
   "id": "66a6205b",
   "metadata": {},
   "outputs": [],
   "source": [
    "# getting team per nflId\n",
    "for j in range(1,9):\n",
    "    if j==1:\n",
    "        df_w = pd.read_csv(files_path+'week'+str(j)+'.csv')\n",
    "        pass\n",
    "    else:\n",
    "        df_aux = pd.read_csv(files_path+'week'+str(j)+'.csv')\n",
    "    df_w = pd.concat([df_w,df_aux])"
   ]
  },
  {
   "cell_type": "code",
   "execution_count": 41,
   "id": "478c7012",
   "metadata": {},
   "outputs": [],
   "source": [
    "df_w = df_w.drop_duplicates(subset=['nflId'],keep='last')\n",
    "df_w = df_w[['nflId','team']]\n",
    "team_p = test_df.merge(df_w,on='nflId')\n",
    "team_p = team_p[~team_p.team.isna()]"
   ]
  },
  {
   "cell_type": "code",
   "execution_count": 42,
   "id": "d61004e2",
   "metadata": {},
   "outputs": [],
   "source": [
    "pf_rank = team_p.groupby(by = 'team')['p_sum'].sum().sort_values(ascending = False).to_frame()"
   ]
  },
  {
   "cell_type": "code",
   "execution_count": 43,
   "id": "c3444348",
   "metadata": {},
   "outputs": [],
   "source": [
    "## making rank by probability of failure by team\n",
    "#pf_rank = pf_rank.reset_index()\n",
    "#pf_rank = pf_rank.sort_index(ascending=False).assign(p_failure_rank=range(1,len(pf_rank)+1))\n",
    "#pf_rank =pf_rank.reset_index()\n",
    "#pf_rank = pf_rank.drop(columns=['index'])\n",
    "# ordenandolo de manera descendente, el mayor tiene mas fallos\n",
    "pf_rank = pf_rank.reset_index()\n",
    "pf_rank = pf_rank.assign(p_failure_rank=range(1,len(pf_rank)+1))"
   ]
  },
  {
   "cell_type": "code",
   "execution_count": 44,
   "id": "f3a79e41",
   "metadata": {},
   "outputs": [
    {
     "data": {
      "text/html": [
       "<div>\n",
       "<style scoped>\n",
       "    .dataframe tbody tr th:only-of-type {\n",
       "        vertical-align: middle;\n",
       "    }\n",
       "\n",
       "    .dataframe tbody tr th {\n",
       "        vertical-align: top;\n",
       "    }\n",
       "\n",
       "    .dataframe thead th {\n",
       "        text-align: right;\n",
       "    }\n",
       "</style>\n",
       "<table border=\"1\" class=\"dataframe\">\n",
       "  <thead>\n",
       "    <tr style=\"text-align: right;\">\n",
       "      <th></th>\n",
       "      <th>team</th>\n",
       "      <th>p_sum</th>\n",
       "      <th>p_failure_rank</th>\n",
       "    </tr>\n",
       "  </thead>\n",
       "  <tbody>\n",
       "    <tr>\n",
       "      <th>0</th>\n",
       "      <td>NE</td>\n",
       "      <td>688.498329</td>\n",
       "      <td>1</td>\n",
       "    </tr>\n",
       "    <tr>\n",
       "      <th>1</th>\n",
       "      <td>CAR</td>\n",
       "      <td>618.693857</td>\n",
       "      <td>2</td>\n",
       "    </tr>\n",
       "    <tr>\n",
       "      <th>2</th>\n",
       "      <td>IND</td>\n",
       "      <td>565.495228</td>\n",
       "      <td>3</td>\n",
       "    </tr>\n",
       "    <tr>\n",
       "      <th>3</th>\n",
       "      <td>NYJ</td>\n",
       "      <td>562.805740</td>\n",
       "      <td>4</td>\n",
       "    </tr>\n",
       "    <tr>\n",
       "      <th>4</th>\n",
       "      <td>BUF</td>\n",
       "      <td>541.757496</td>\n",
       "      <td>5</td>\n",
       "    </tr>\n",
       "    <tr>\n",
       "      <th>5</th>\n",
       "      <td>HOU</td>\n",
       "      <td>538.077481</td>\n",
       "      <td>6</td>\n",
       "    </tr>\n",
       "    <tr>\n",
       "      <th>6</th>\n",
       "      <td>LAC</td>\n",
       "      <td>531.110074</td>\n",
       "      <td>7</td>\n",
       "    </tr>\n",
       "    <tr>\n",
       "      <th>7</th>\n",
       "      <td>SEA</td>\n",
       "      <td>523.463322</td>\n",
       "      <td>8</td>\n",
       "    </tr>\n",
       "    <tr>\n",
       "      <th>8</th>\n",
       "      <td>CLE</td>\n",
       "      <td>508.930800</td>\n",
       "      <td>9</td>\n",
       "    </tr>\n",
       "    <tr>\n",
       "      <th>9</th>\n",
       "      <td>MIA</td>\n",
       "      <td>501.982085</td>\n",
       "      <td>10</td>\n",
       "    </tr>\n",
       "    <tr>\n",
       "      <th>10</th>\n",
       "      <td>LV</td>\n",
       "      <td>499.040253</td>\n",
       "      <td>11</td>\n",
       "    </tr>\n",
       "    <tr>\n",
       "      <th>11</th>\n",
       "      <td>CHI</td>\n",
       "      <td>498.926813</td>\n",
       "      <td>12</td>\n",
       "    </tr>\n",
       "    <tr>\n",
       "      <th>12</th>\n",
       "      <td>PHI</td>\n",
       "      <td>489.108763</td>\n",
       "      <td>13</td>\n",
       "    </tr>\n",
       "    <tr>\n",
       "      <th>13</th>\n",
       "      <td>NYG</td>\n",
       "      <td>475.008012</td>\n",
       "      <td>14</td>\n",
       "    </tr>\n",
       "    <tr>\n",
       "      <th>14</th>\n",
       "      <td>MIN</td>\n",
       "      <td>466.365382</td>\n",
       "      <td>15</td>\n",
       "    </tr>\n",
       "    <tr>\n",
       "      <th>15</th>\n",
       "      <td>SF</td>\n",
       "      <td>463.647637</td>\n",
       "      <td>16</td>\n",
       "    </tr>\n",
       "    <tr>\n",
       "      <th>16</th>\n",
       "      <td>TEN</td>\n",
       "      <td>456.666630</td>\n",
       "      <td>17</td>\n",
       "    </tr>\n",
       "    <tr>\n",
       "      <th>17</th>\n",
       "      <td>CIN</td>\n",
       "      <td>455.177797</td>\n",
       "      <td>18</td>\n",
       "    </tr>\n",
       "    <tr>\n",
       "      <th>18</th>\n",
       "      <td>DEN</td>\n",
       "      <td>443.079023</td>\n",
       "      <td>19</td>\n",
       "    </tr>\n",
       "    <tr>\n",
       "      <th>19</th>\n",
       "      <td>NO</td>\n",
       "      <td>440.278306</td>\n",
       "      <td>20</td>\n",
       "    </tr>\n",
       "    <tr>\n",
       "      <th>20</th>\n",
       "      <td>WAS</td>\n",
       "      <td>434.482554</td>\n",
       "      <td>21</td>\n",
       "    </tr>\n",
       "    <tr>\n",
       "      <th>21</th>\n",
       "      <td>BAL</td>\n",
       "      <td>424.094926</td>\n",
       "      <td>22</td>\n",
       "    </tr>\n",
       "    <tr>\n",
       "      <th>22</th>\n",
       "      <td>DET</td>\n",
       "      <td>413.306273</td>\n",
       "      <td>23</td>\n",
       "    </tr>\n",
       "    <tr>\n",
       "      <th>23</th>\n",
       "      <td>ATL</td>\n",
       "      <td>395.018866</td>\n",
       "      <td>24</td>\n",
       "    </tr>\n",
       "    <tr>\n",
       "      <th>24</th>\n",
       "      <td>KC</td>\n",
       "      <td>389.829025</td>\n",
       "      <td>25</td>\n",
       "    </tr>\n",
       "    <tr>\n",
       "      <th>25</th>\n",
       "      <td>JAX</td>\n",
       "      <td>381.459878</td>\n",
       "      <td>26</td>\n",
       "    </tr>\n",
       "    <tr>\n",
       "      <th>26</th>\n",
       "      <td>DAL</td>\n",
       "      <td>379.732400</td>\n",
       "      <td>27</td>\n",
       "    </tr>\n",
       "    <tr>\n",
       "      <th>27</th>\n",
       "      <td>GB</td>\n",
       "      <td>363.403891</td>\n",
       "      <td>28</td>\n",
       "    </tr>\n",
       "    <tr>\n",
       "      <th>28</th>\n",
       "      <td>ARI</td>\n",
       "      <td>295.437411</td>\n",
       "      <td>29</td>\n",
       "    </tr>\n",
       "    <tr>\n",
       "      <th>29</th>\n",
       "      <td>LA</td>\n",
       "      <td>281.336127</td>\n",
       "      <td>30</td>\n",
       "    </tr>\n",
       "    <tr>\n",
       "      <th>30</th>\n",
       "      <td>TB</td>\n",
       "      <td>273.430284</td>\n",
       "      <td>31</td>\n",
       "    </tr>\n",
       "    <tr>\n",
       "      <th>31</th>\n",
       "      <td>PIT</td>\n",
       "      <td>256.036213</td>\n",
       "      <td>32</td>\n",
       "    </tr>\n",
       "  </tbody>\n",
       "</table>\n",
       "</div>"
      ],
      "text/plain": [
       "   team       p_sum  p_failure_rank\n",
       "0    NE  688.498329               1\n",
       "1   CAR  618.693857               2\n",
       "2   IND  565.495228               3\n",
       "3   NYJ  562.805740               4\n",
       "4   BUF  541.757496               5\n",
       "5   HOU  538.077481               6\n",
       "6   LAC  531.110074               7\n",
       "7   SEA  523.463322               8\n",
       "8   CLE  508.930800               9\n",
       "9   MIA  501.982085              10\n",
       "10   LV  499.040253              11\n",
       "11  CHI  498.926813              12\n",
       "12  PHI  489.108763              13\n",
       "13  NYG  475.008012              14\n",
       "14  MIN  466.365382              15\n",
       "15   SF  463.647637              16\n",
       "16  TEN  456.666630              17\n",
       "17  CIN  455.177797              18\n",
       "18  DEN  443.079023              19\n",
       "19   NO  440.278306              20\n",
       "20  WAS  434.482554              21\n",
       "21  BAL  424.094926              22\n",
       "22  DET  413.306273              23\n",
       "23  ATL  395.018866              24\n",
       "24   KC  389.829025              25\n",
       "25  JAX  381.459878              26\n",
       "26  DAL  379.732400              27\n",
       "27   GB  363.403891              28\n",
       "28  ARI  295.437411              29\n",
       "29   LA  281.336127              30\n",
       "30   TB  273.430284              31\n",
       "31  PIT  256.036213              32"
      ]
     },
     "execution_count": 44,
     "metadata": {},
     "output_type": "execute_result"
    }
   ],
   "source": [
    "pf_rank"
   ]
  },
  {
   "cell_type": "markdown",
   "id": "50142f15",
   "metadata": {},
   "source": [
    "### Improving the team's position in the ranking"
   ]
  },
  {
   "cell_type": "markdown",
   "id": "ec2bc7fb",
   "metadata": {},
   "source": [
    "Now we will use the model to see players with higher probability of failure of team in 1th position and team in the last position to change players of the first team for players of the seciond team and see how much does the score of the team with higher P(f) improve?"
   ]
  },
  {
   "cell_type": "code",
   "execution_count": 45,
   "id": "2d69c0fd",
   "metadata": {},
   "outputs": [],
   "source": [
    "team_p['p_sum'] = team_p['p_sum']*s_f"
   ]
  },
  {
   "cell_type": "code",
   "execution_count": 46,
   "id": "470f5d9a",
   "metadata": {},
   "outputs": [
    {
     "name": "stderr",
     "output_type": "stream",
     "text": [
      "/tmp/ipykernel_6364/3748763817.py:1: FutureWarning: The default value of numeric_only in DataFrameGroupBy.sum is deprecated. In a future version, numeric_only will default to False. Either specify numeric_only or select only columns which should be valid for the function.\n",
      "  team_p[team_p.team == 'CAR'].groupby(by='nflId').sum().sort_values(by='p_sum',ascending=False)\n"
     ]
    },
    {
     "data": {
      "text/html": [
       "<div>\n",
       "<style scoped>\n",
       "    .dataframe tbody tr th:only-of-type {\n",
       "        vertical-align: middle;\n",
       "    }\n",
       "\n",
       "    .dataframe tbody tr th {\n",
       "        vertical-align: top;\n",
       "    }\n",
       "\n",
       "    .dataframe thead th {\n",
       "        text-align: right;\n",
       "    }\n",
       "</style>\n",
       "<table border=\"1\" class=\"dataframe\">\n",
       "  <thead>\n",
       "    <tr style=\"text-align: right;\">\n",
       "      <th></th>\n",
       "      <th>pff_beatenByDefender_P</th>\n",
       "      <th>pff_hitAllowed_P</th>\n",
       "      <th>pff_hurryAllowed_P</th>\n",
       "      <th>pff_sackAllowed_P</th>\n",
       "      <th>foul1</th>\n",
       "      <th>foul2</th>\n",
       "      <th>foul3</th>\n",
       "      <th>p_sum</th>\n",
       "    </tr>\n",
       "    <tr>\n",
       "      <th>nflId</th>\n",
       "      <th></th>\n",
       "      <th></th>\n",
       "      <th></th>\n",
       "      <th></th>\n",
       "      <th></th>\n",
       "      <th></th>\n",
       "      <th></th>\n",
       "      <th></th>\n",
       "    </tr>\n",
       "  </thead>\n",
       "  <tbody>\n",
       "    <tr>\n",
       "      <th>53499</th>\n",
       "      <td>36.111111</td>\n",
       "      <td>8.024691</td>\n",
       "      <td>32.098765</td>\n",
       "      <td>8.024691</td>\n",
       "      <td>0.000000</td>\n",
       "      <td>0.0</td>\n",
       "      <td>0.0</td>\n",
       "      <td>27384.259259</td>\n",
       "    </tr>\n",
       "    <tr>\n",
       "      <th>44882</th>\n",
       "      <td>31.707317</td>\n",
       "      <td>23.780488</td>\n",
       "      <td>15.853659</td>\n",
       "      <td>0.000000</td>\n",
       "      <td>0.000000</td>\n",
       "      <td>0.0</td>\n",
       "      <td>0.0</td>\n",
       "      <td>23185.975610</td>\n",
       "    </tr>\n",
       "    <tr>\n",
       "      <th>46755</th>\n",
       "      <td>22.674419</td>\n",
       "      <td>7.558140</td>\n",
       "      <td>30.232558</td>\n",
       "      <td>0.000000</td>\n",
       "      <td>0.000000</td>\n",
       "      <td>0.0</td>\n",
       "      <td>0.0</td>\n",
       "      <td>19651.162791</td>\n",
       "    </tr>\n",
       "    <tr>\n",
       "      <th>42362</th>\n",
       "      <td>19.835681</td>\n",
       "      <td>4.577465</td>\n",
       "      <td>24.413146</td>\n",
       "      <td>1.525822</td>\n",
       "      <td>4.577465</td>\n",
       "      <td>0.0</td>\n",
       "      <td>0.0</td>\n",
       "      <td>17852.112676</td>\n",
       "    </tr>\n",
       "    <tr>\n",
       "      <th>46170</th>\n",
       "      <td>34.210526</td>\n",
       "      <td>0.000000</td>\n",
       "      <td>8.552632</td>\n",
       "      <td>0.000000</td>\n",
       "      <td>0.000000</td>\n",
       "      <td>0.0</td>\n",
       "      <td>0.0</td>\n",
       "      <td>13898.026316</td>\n",
       "    </tr>\n",
       "    <tr>\n",
       "      <th>42424</th>\n",
       "      <td>10.435780</td>\n",
       "      <td>0.000000</td>\n",
       "      <td>23.853211</td>\n",
       "      <td>4.472477</td>\n",
       "      <td>2.981651</td>\n",
       "      <td>0.0</td>\n",
       "      <td>0.0</td>\n",
       "      <td>13566.513761</td>\n",
       "    </tr>\n",
       "    <tr>\n",
       "      <th>47995</th>\n",
       "      <td>20.428571</td>\n",
       "      <td>5.571429</td>\n",
       "      <td>9.285714</td>\n",
       "      <td>3.714286</td>\n",
       "      <td>1.857143</td>\n",
       "      <td>0.0</td>\n",
       "      <td>0.0</td>\n",
       "      <td>13278.571429</td>\n",
       "    </tr>\n",
       "    <tr>\n",
       "      <th>46140</th>\n",
       "      <td>0.000000</td>\n",
       "      <td>0.000000</td>\n",
       "      <td>20.312500</td>\n",
       "      <td>20.312500</td>\n",
       "      <td>0.000000</td>\n",
       "      <td>0.0</td>\n",
       "      <td>0.0</td>\n",
       "      <td>13203.125000</td>\n",
       "    </tr>\n",
       "    <tr>\n",
       "      <th>44876</th>\n",
       "      <td>16.927083</td>\n",
       "      <td>2.256944</td>\n",
       "      <td>18.055556</td>\n",
       "      <td>0.000000</td>\n",
       "      <td>1.128472</td>\n",
       "      <td>0.0</td>\n",
       "      <td>0.0</td>\n",
       "      <td>12469.618056</td>\n",
       "    </tr>\n",
       "    <tr>\n",
       "      <th>47919</th>\n",
       "      <td>12.621359</td>\n",
       "      <td>3.155340</td>\n",
       "      <td>12.621359</td>\n",
       "      <td>9.466019</td>\n",
       "      <td>0.000000</td>\n",
       "      <td>0.0</td>\n",
       "      <td>0.0</td>\n",
       "      <td>12305.825243</td>\n",
       "    </tr>\n",
       "    <tr>\n",
       "      <th>53555</th>\n",
       "      <td>0.000000</td>\n",
       "      <td>0.000000</td>\n",
       "      <td>17.105263</td>\n",
       "      <td>17.105263</td>\n",
       "      <td>0.000000</td>\n",
       "      <td>0.0</td>\n",
       "      <td>0.0</td>\n",
       "      <td>11118.421053</td>\n",
       "    </tr>\n",
       "    <tr>\n",
       "      <th>53512</th>\n",
       "      <td>0.000000</td>\n",
       "      <td>0.000000</td>\n",
       "      <td>0.000000</td>\n",
       "      <td>27.083333</td>\n",
       "      <td>0.000000</td>\n",
       "      <td>0.0</td>\n",
       "      <td>0.0</td>\n",
       "      <td>8802.083333</td>\n",
       "    </tr>\n",
       "    <tr>\n",
       "      <th>44820</th>\n",
       "      <td>25.000000</td>\n",
       "      <td>0.000000</td>\n",
       "      <td>0.000000</td>\n",
       "      <td>0.000000</td>\n",
       "      <td>0.000000</td>\n",
       "      <td>0.0</td>\n",
       "      <td>0.0</td>\n",
       "      <td>8125.000000</td>\n",
       "    </tr>\n",
       "    <tr>\n",
       "      <th>41436</th>\n",
       "      <td>4.513889</td>\n",
       "      <td>0.000000</td>\n",
       "      <td>12.413194</td>\n",
       "      <td>2.256944</td>\n",
       "      <td>0.000000</td>\n",
       "      <td>0.0</td>\n",
       "      <td>0.0</td>\n",
       "      <td>6234.809028</td>\n",
       "    </tr>\n",
       "  </tbody>\n",
       "</table>\n",
       "</div>"
      ],
      "text/plain": [
       "       pff_beatenByDefender_P  pff_hitAllowed_P  pff_hurryAllowed_P  \\\n",
       "nflId                                                                 \n",
       "53499               36.111111          8.024691           32.098765   \n",
       "44882               31.707317         23.780488           15.853659   \n",
       "46755               22.674419          7.558140           30.232558   \n",
       "42362               19.835681          4.577465           24.413146   \n",
       "46170               34.210526          0.000000            8.552632   \n",
       "42424               10.435780          0.000000           23.853211   \n",
       "47995               20.428571          5.571429            9.285714   \n",
       "46140                0.000000          0.000000           20.312500   \n",
       "44876               16.927083          2.256944           18.055556   \n",
       "47919               12.621359          3.155340           12.621359   \n",
       "53555                0.000000          0.000000           17.105263   \n",
       "53512                0.000000          0.000000            0.000000   \n",
       "44820               25.000000          0.000000            0.000000   \n",
       "41436                4.513889          0.000000           12.413194   \n",
       "\n",
       "       pff_sackAllowed_P     foul1  foul2  foul3         p_sum  \n",
       "nflId                                                           \n",
       "53499           8.024691  0.000000    0.0    0.0  27384.259259  \n",
       "44882           0.000000  0.000000    0.0    0.0  23185.975610  \n",
       "46755           0.000000  0.000000    0.0    0.0  19651.162791  \n",
       "42362           1.525822  4.577465    0.0    0.0  17852.112676  \n",
       "46170           0.000000  0.000000    0.0    0.0  13898.026316  \n",
       "42424           4.472477  2.981651    0.0    0.0  13566.513761  \n",
       "47995           3.714286  1.857143    0.0    0.0  13278.571429  \n",
       "46140          20.312500  0.000000    0.0    0.0  13203.125000  \n",
       "44876           0.000000  1.128472    0.0    0.0  12469.618056  \n",
       "47919           9.466019  0.000000    0.0    0.0  12305.825243  \n",
       "53555          17.105263  0.000000    0.0    0.0  11118.421053  \n",
       "53512          27.083333  0.000000    0.0    0.0   8802.083333  \n",
       "44820           0.000000  0.000000    0.0    0.0   8125.000000  \n",
       "41436           2.256944  0.000000    0.0    0.0   6234.809028  "
      ]
     },
     "execution_count": 46,
     "metadata": {},
     "output_type": "execute_result"
    }
   ],
   "source": [
    "team_p[team_p.team == 'CAR'].groupby(by='nflId').sum().sort_values(by='p_sum',ascending=False)"
   ]
  },
  {
   "cell_type": "code",
   "execution_count": 47,
   "id": "44f1c946",
   "metadata": {},
   "outputs": [
    {
     "data": {
      "text/html": [
       "<div>\n",
       "<style scoped>\n",
       "    .dataframe tbody tr th:only-of-type {\n",
       "        vertical-align: middle;\n",
       "    }\n",
       "\n",
       "    .dataframe tbody tr th {\n",
       "        vertical-align: top;\n",
       "    }\n",
       "\n",
       "    .dataframe thead th {\n",
       "        text-align: right;\n",
       "    }\n",
       "</style>\n",
       "<table border=\"1\" class=\"dataframe\">\n",
       "  <thead>\n",
       "    <tr style=\"text-align: right;\">\n",
       "      <th></th>\n",
       "      <th>nflId</th>\n",
       "      <th>displayName</th>\n",
       "    </tr>\n",
       "  </thead>\n",
       "  <tbody>\n",
       "    <tr>\n",
       "      <th>325</th>\n",
       "      <td>42397</td>\n",
       "      <td>Ameer Abdullah</td>\n",
       "    </tr>\n",
       "    <tr>\n",
       "      <th>634</th>\n",
       "      <td>44882</td>\n",
       "      <td>Pat Elflein</td>\n",
       "    </tr>\n",
       "    <tr>\n",
       "      <th>748</th>\n",
       "      <td>45594</td>\n",
       "      <td>Colin Thompson</td>\n",
       "    </tr>\n",
       "    <tr>\n",
       "      <th>1430</th>\n",
       "      <td>52859</td>\n",
       "      <td>Rodney Smith</td>\n",
       "    </tr>\n",
       "    <tr>\n",
       "      <th>1529</th>\n",
       "      <td>53499</td>\n",
       "      <td>Brady Christensen</td>\n",
       "    </tr>\n",
       "  </tbody>\n",
       "</table>\n",
       "</div>"
      ],
      "text/plain": [
       "      nflId        displayName\n",
       "325   42397     Ameer Abdullah\n",
       "634   44882        Pat Elflein\n",
       "748   45594     Colin Thompson\n",
       "1430  52859       Rodney Smith\n",
       "1529  53499  Brady Christensen"
      ]
     },
     "execution_count": 47,
     "metadata": {},
     "output_type": "execute_result"
    }
   ],
   "source": [
    "# listiong players with higger p(f)\n",
    "player_df[player_df.nflId.isin([52859,42397,53499,45594,44882])]"
   ]
  },
  {
   "cell_type": "code",
   "execution_count": 48,
   "id": "57524f13",
   "metadata": {},
   "outputs": [],
   "source": [
    "# creating a df only for a team with biggest p_sum\n",
    "t_team_df = team_p[team_p.team == 'CAR']"
   ]
  },
  {
   "cell_type": "code",
   "execution_count": 49,
   "id": "67cb58ee",
   "metadata": {},
   "outputs": [
    {
     "data": {
      "text/html": [
       "<div>\n",
       "<style scoped>\n",
       "    .dataframe tbody tr th:only-of-type {\n",
       "        vertical-align: middle;\n",
       "    }\n",
       "\n",
       "    .dataframe tbody tr th {\n",
       "        vertical-align: top;\n",
       "    }\n",
       "\n",
       "    .dataframe thead th {\n",
       "        text-align: right;\n",
       "    }\n",
       "</style>\n",
       "<table border=\"1\" class=\"dataframe\">\n",
       "  <thead>\n",
       "    <tr style=\"text-align: right;\">\n",
       "      <th></th>\n",
       "      <th>nflId</th>\n",
       "      <th>pff_beatenByDefender_P</th>\n",
       "      <th>pff_hitAllowed_P</th>\n",
       "      <th>pff_hurryAllowed_P</th>\n",
       "      <th>pff_sackAllowed_P</th>\n",
       "      <th>foul1</th>\n",
       "      <th>foul2</th>\n",
       "      <th>foul3</th>\n",
       "      <th>p_sum</th>\n",
       "      <th>team</th>\n",
       "    </tr>\n",
       "  </thead>\n",
       "  <tbody>\n",
       "    <tr>\n",
       "      <th>54</th>\n",
       "      <td>41436</td>\n",
       "      <td>4.513889</td>\n",
       "      <td>0.000000</td>\n",
       "      <td>12.413194</td>\n",
       "      <td>2.256944</td>\n",
       "      <td>0.000000</td>\n",
       "      <td>0.0</td>\n",
       "      <td>0.0</td>\n",
       "      <td>6234.809028</td>\n",
       "      <td>CAR</td>\n",
       "    </tr>\n",
       "    <tr>\n",
       "      <th>55</th>\n",
       "      <td>42362</td>\n",
       "      <td>19.835681</td>\n",
       "      <td>4.577465</td>\n",
       "      <td>24.413146</td>\n",
       "      <td>1.525822</td>\n",
       "      <td>4.577465</td>\n",
       "      <td>0.0</td>\n",
       "      <td>0.0</td>\n",
       "      <td>17852.112676</td>\n",
       "      <td>CAR</td>\n",
       "    </tr>\n",
       "    <tr>\n",
       "      <th>56</th>\n",
       "      <td>44876</td>\n",
       "      <td>16.927083</td>\n",
       "      <td>2.256944</td>\n",
       "      <td>18.055556</td>\n",
       "      <td>0.000000</td>\n",
       "      <td>1.128472</td>\n",
       "      <td>0.0</td>\n",
       "      <td>0.0</td>\n",
       "      <td>12469.618056</td>\n",
       "      <td>CAR</td>\n",
       "    </tr>\n",
       "    <tr>\n",
       "      <th>57</th>\n",
       "      <td>44882</td>\n",
       "      <td>31.707317</td>\n",
       "      <td>23.780488</td>\n",
       "      <td>15.853659</td>\n",
       "      <td>0.000000</td>\n",
       "      <td>0.000000</td>\n",
       "      <td>0.0</td>\n",
       "      <td>0.0</td>\n",
       "      <td>23185.975610</td>\n",
       "      <td>CAR</td>\n",
       "    </tr>\n",
       "    <tr>\n",
       "      <th>58</th>\n",
       "      <td>47995</td>\n",
       "      <td>20.428571</td>\n",
       "      <td>5.571429</td>\n",
       "      <td>9.285714</td>\n",
       "      <td>3.714286</td>\n",
       "      <td>1.857143</td>\n",
       "      <td>0.0</td>\n",
       "      <td>0.0</td>\n",
       "      <td>13278.571429</td>\n",
       "      <td>CAR</td>\n",
       "    </tr>\n",
       "    <tr>\n",
       "      <th>61</th>\n",
       "      <td>44820</td>\n",
       "      <td>25.000000</td>\n",
       "      <td>0.000000</td>\n",
       "      <td>0.000000</td>\n",
       "      <td>0.000000</td>\n",
       "      <td>0.000000</td>\n",
       "      <td>0.0</td>\n",
       "      <td>0.0</td>\n",
       "      <td>8125.000000</td>\n",
       "      <td>CAR</td>\n",
       "    </tr>\n",
       "    <tr>\n",
       "      <th>62</th>\n",
       "      <td>46170</td>\n",
       "      <td>34.210526</td>\n",
       "      <td>0.000000</td>\n",
       "      <td>8.552632</td>\n",
       "      <td>0.000000</td>\n",
       "      <td>0.000000</td>\n",
       "      <td>0.0</td>\n",
       "      <td>0.0</td>\n",
       "      <td>13898.026316</td>\n",
       "      <td>CAR</td>\n",
       "    </tr>\n",
       "    <tr>\n",
       "      <th>63</th>\n",
       "      <td>53512</td>\n",
       "      <td>0.000000</td>\n",
       "      <td>0.000000</td>\n",
       "      <td>0.000000</td>\n",
       "      <td>27.083333</td>\n",
       "      <td>0.000000</td>\n",
       "      <td>0.0</td>\n",
       "      <td>0.0</td>\n",
       "      <td>8802.083333</td>\n",
       "      <td>CAR</td>\n",
       "    </tr>\n",
       "    <tr>\n",
       "      <th>66</th>\n",
       "      <td>46755</td>\n",
       "      <td>22.674419</td>\n",
       "      <td>7.558140</td>\n",
       "      <td>30.232558</td>\n",
       "      <td>0.000000</td>\n",
       "      <td>0.000000</td>\n",
       "      <td>0.0</td>\n",
       "      <td>0.0</td>\n",
       "      <td>19651.162791</td>\n",
       "      <td>CAR</td>\n",
       "    </tr>\n",
       "    <tr>\n",
       "      <th>286</th>\n",
       "      <td>42424</td>\n",
       "      <td>10.435780</td>\n",
       "      <td>0.000000</td>\n",
       "      <td>23.853211</td>\n",
       "      <td>4.472477</td>\n",
       "      <td>2.981651</td>\n",
       "      <td>0.0</td>\n",
       "      <td>0.0</td>\n",
       "      <td>13566.513761</td>\n",
       "      <td>CAR</td>\n",
       "    </tr>\n",
       "    <tr>\n",
       "      <th>287</th>\n",
       "      <td>53499</td>\n",
       "      <td>36.111111</td>\n",
       "      <td>8.024691</td>\n",
       "      <td>32.098765</td>\n",
       "      <td>8.024691</td>\n",
       "      <td>0.000000</td>\n",
       "      <td>0.0</td>\n",
       "      <td>0.0</td>\n",
       "      <td>27384.259259</td>\n",
       "      <td>CAR</td>\n",
       "    </tr>\n",
       "    <tr>\n",
       "      <th>288</th>\n",
       "      <td>53555</td>\n",
       "      <td>0.000000</td>\n",
       "      <td>0.000000</td>\n",
       "      <td>17.105263</td>\n",
       "      <td>17.105263</td>\n",
       "      <td>0.000000</td>\n",
       "      <td>0.0</td>\n",
       "      <td>0.0</td>\n",
       "      <td>11118.421053</td>\n",
       "      <td>CAR</td>\n",
       "    </tr>\n",
       "    <tr>\n",
       "      <th>289</th>\n",
       "      <td>46140</td>\n",
       "      <td>0.000000</td>\n",
       "      <td>0.000000</td>\n",
       "      <td>20.312500</td>\n",
       "      <td>20.312500</td>\n",
       "      <td>0.000000</td>\n",
       "      <td>0.0</td>\n",
       "      <td>0.0</td>\n",
       "      <td>13203.125000</td>\n",
       "      <td>CAR</td>\n",
       "    </tr>\n",
       "    <tr>\n",
       "      <th>383</th>\n",
       "      <td>47919</td>\n",
       "      <td>12.621359</td>\n",
       "      <td>3.155340</td>\n",
       "      <td>12.621359</td>\n",
       "      <td>9.466019</td>\n",
       "      <td>0.000000</td>\n",
       "      <td>0.0</td>\n",
       "      <td>0.0</td>\n",
       "      <td>12305.825243</td>\n",
       "      <td>CAR</td>\n",
       "    </tr>\n",
       "  </tbody>\n",
       "</table>\n",
       "</div>"
      ],
      "text/plain": [
       "     nflId  pff_beatenByDefender_P  pff_hitAllowed_P  pff_hurryAllowed_P  \\\n",
       "54   41436                4.513889          0.000000           12.413194   \n",
       "55   42362               19.835681          4.577465           24.413146   \n",
       "56   44876               16.927083          2.256944           18.055556   \n",
       "57   44882               31.707317         23.780488           15.853659   \n",
       "58   47995               20.428571          5.571429            9.285714   \n",
       "61   44820               25.000000          0.000000            0.000000   \n",
       "62   46170               34.210526          0.000000            8.552632   \n",
       "63   53512                0.000000          0.000000            0.000000   \n",
       "66   46755               22.674419          7.558140           30.232558   \n",
       "286  42424               10.435780          0.000000           23.853211   \n",
       "287  53499               36.111111          8.024691           32.098765   \n",
       "288  53555                0.000000          0.000000           17.105263   \n",
       "289  46140                0.000000          0.000000           20.312500   \n",
       "383  47919               12.621359          3.155340           12.621359   \n",
       "\n",
       "     pff_sackAllowed_P     foul1  foul2  foul3         p_sum team  \n",
       "54            2.256944  0.000000    0.0    0.0   6234.809028  CAR  \n",
       "55            1.525822  4.577465    0.0    0.0  17852.112676  CAR  \n",
       "56            0.000000  1.128472    0.0    0.0  12469.618056  CAR  \n",
       "57            0.000000  0.000000    0.0    0.0  23185.975610  CAR  \n",
       "58            3.714286  1.857143    0.0    0.0  13278.571429  CAR  \n",
       "61            0.000000  0.000000    0.0    0.0   8125.000000  CAR  \n",
       "62            0.000000  0.000000    0.0    0.0  13898.026316  CAR  \n",
       "63           27.083333  0.000000    0.0    0.0   8802.083333  CAR  \n",
       "66            0.000000  0.000000    0.0    0.0  19651.162791  CAR  \n",
       "286           4.472477  2.981651    0.0    0.0  13566.513761  CAR  \n",
       "287           8.024691  0.000000    0.0    0.0  27384.259259  CAR  \n",
       "288          17.105263  0.000000    0.0    0.0  11118.421053  CAR  \n",
       "289          20.312500  0.000000    0.0    0.0  13203.125000  CAR  \n",
       "383           9.466019  0.000000    0.0    0.0  12305.825243  CAR  "
      ]
     },
     "execution_count": 49,
     "metadata": {},
     "output_type": "execute_result"
    }
   ],
   "source": [
    "t_team_df"
   ]
  },
  {
   "cell_type": "code",
   "execution_count": 50,
   "id": "594d0a27",
   "metadata": {},
   "outputs": [
    {
     "name": "stderr",
     "output_type": "stream",
     "text": [
      "/tmp/ipykernel_6364/291989674.py:2: SettingWithCopyWarning: \n",
      "A value is trying to be set on a copy of a slice from a DataFrame\n",
      "\n",
      "See the caveats in the documentation: https://pandas.pydata.org/pandas-docs/stable/user_guide/indexing.html#returning-a-view-versus-a-copy\n",
      "  t_team_df.drop(t_team_df[t_team_df['nflId'].isin([52859,42397,53499,45594,44882])].index, inplace = True)\n"
     ]
    }
   ],
   "source": [
    "# droping target players\n",
    "t_team_df.drop(t_team_df[t_team_df['nflId'].isin([52859,42397,53499,45594,44882])].index, inplace = True)\n",
    "#t_team_df"
   ]
  },
  {
   "cell_type": "markdown",
   "id": "3569481a",
   "metadata": {},
   "source": [
    "We will replace Pat Elflein, Colin Thompson, Brady Christensen for with the players with the highest p(f) of the last team in the ranking"
   ]
  },
  {
   "cell_type": "code",
   "execution_count": 51,
   "id": "8a599ba4",
   "metadata": {},
   "outputs": [
    {
     "name": "stderr",
     "output_type": "stream",
     "text": [
      "/tmp/ipykernel_6364/1562045126.py:2: FutureWarning: The default value of numeric_only in DataFrameGroupBy.sum is deprecated. In a future version, numeric_only will default to False. Either specify numeric_only or select only columns which should be valid for the function.\n",
      "  new_players = team_p[team_p.team == 'ARI'].groupby(by='nflId').sum().sort_values(by='p_sum',ascending=False).index[0:5].tolist()\n"
     ]
    }
   ],
   "source": [
    "# selecting 3 player with higest p(f) of the last team in the ranking\n",
    "new_players = team_p[team_p.team == 'ARI'].groupby(by='nflId').sum().sort_values(by='p_sum',ascending=False).index[0:5].tolist()\n",
    "new_players_df = team_p[team_p.nflId.isin(new_players)]"
   ]
  },
  {
   "cell_type": "code",
   "execution_count": 52,
   "id": "b73720a7",
   "metadata": {},
   "outputs": [
    {
     "data": {
      "text/html": [
       "<div>\n",
       "<style scoped>\n",
       "    .dataframe tbody tr th:only-of-type {\n",
       "        vertical-align: middle;\n",
       "    }\n",
       "\n",
       "    .dataframe tbody tr th {\n",
       "        vertical-align: top;\n",
       "    }\n",
       "\n",
       "    .dataframe thead th {\n",
       "        text-align: right;\n",
       "    }\n",
       "</style>\n",
       "<table border=\"1\" class=\"dataframe\">\n",
       "  <thead>\n",
       "    <tr style=\"text-align: right;\">\n",
       "      <th></th>\n",
       "      <th>nflId</th>\n",
       "      <th>pff_beatenByDefender_P</th>\n",
       "      <th>pff_hitAllowed_P</th>\n",
       "      <th>pff_hurryAllowed_P</th>\n",
       "      <th>pff_sackAllowed_P</th>\n",
       "      <th>foul1</th>\n",
       "      <th>foul2</th>\n",
       "      <th>foul3</th>\n",
       "      <th>p_sum</th>\n",
       "      <th>team</th>\n",
       "    </tr>\n",
       "  </thead>\n",
       "  <tbody>\n",
       "    <tr>\n",
       "      <th>145</th>\n",
       "      <td>38779</td>\n",
       "      <td>18.439716</td>\n",
       "      <td>2.304965</td>\n",
       "      <td>13.829787</td>\n",
       "      <td>4.609929</td>\n",
       "      <td>0.000000</td>\n",
       "      <td>0.0</td>\n",
       "      <td>0.0</td>\n",
       "      <td>12734.929078</td>\n",
       "      <td>ARI</td>\n",
       "    </tr>\n",
       "    <tr>\n",
       "      <th>146</th>\n",
       "      <td>39965</td>\n",
       "      <td>4.534884</td>\n",
       "      <td>1.511628</td>\n",
       "      <td>18.139535</td>\n",
       "      <td>0.000000</td>\n",
       "      <td>0.000000</td>\n",
       "      <td>0.0</td>\n",
       "      <td>0.0</td>\n",
       "      <td>7860.465116</td>\n",
       "      <td>ARI</td>\n",
       "    </tr>\n",
       "    <tr>\n",
       "      <th>147</th>\n",
       "      <td>42367</td>\n",
       "      <td>19.696970</td>\n",
       "      <td>1.406926</td>\n",
       "      <td>19.696970</td>\n",
       "      <td>4.220779</td>\n",
       "      <td>1.406926</td>\n",
       "      <td>0.0</td>\n",
       "      <td>0.0</td>\n",
       "      <td>15089.285714</td>\n",
       "      <td>ARI</td>\n",
       "    </tr>\n",
       "    <tr>\n",
       "      <th>148</th>\n",
       "      <td>42398</td>\n",
       "      <td>15.476190</td>\n",
       "      <td>0.000000</td>\n",
       "      <td>30.952381</td>\n",
       "      <td>0.000000</td>\n",
       "      <td>0.000000</td>\n",
       "      <td>0.0</td>\n",
       "      <td>0.0</td>\n",
       "      <td>15089.285714</td>\n",
       "      <td>ARI</td>\n",
       "    </tr>\n",
       "    <tr>\n",
       "      <th>149</th>\n",
       "      <td>52480</td>\n",
       "      <td>13.058036</td>\n",
       "      <td>1.450893</td>\n",
       "      <td>20.312500</td>\n",
       "      <td>7.254464</td>\n",
       "      <td>4.352679</td>\n",
       "      <td>0.0</td>\n",
       "      <td>0.0</td>\n",
       "      <td>15089.285714</td>\n",
       "      <td>ARI</td>\n",
       "    </tr>\n",
       "  </tbody>\n",
       "</table>\n",
       "</div>"
      ],
      "text/plain": [
       "     nflId  pff_beatenByDefender_P  pff_hitAllowed_P  pff_hurryAllowed_P  \\\n",
       "145  38779               18.439716          2.304965           13.829787   \n",
       "146  39965                4.534884          1.511628           18.139535   \n",
       "147  42367               19.696970          1.406926           19.696970   \n",
       "148  42398               15.476190          0.000000           30.952381   \n",
       "149  52480               13.058036          1.450893           20.312500   \n",
       "\n",
       "     pff_sackAllowed_P     foul1  foul2  foul3         p_sum team  \n",
       "145           4.609929  0.000000    0.0    0.0  12734.929078  ARI  \n",
       "146           0.000000  0.000000    0.0    0.0   7860.465116  ARI  \n",
       "147           4.220779  1.406926    0.0    0.0  15089.285714  ARI  \n",
       "148           0.000000  0.000000    0.0    0.0  15089.285714  ARI  \n",
       "149           7.254464  4.352679    0.0    0.0  15089.285714  ARI  "
      ]
     },
     "execution_count": 52,
     "metadata": {},
     "output_type": "execute_result"
    }
   ],
   "source": [
    "new_players_df"
   ]
  },
  {
   "cell_type": "code",
   "execution_count": 53,
   "id": "efe337e2",
   "metadata": {},
   "outputs": [],
   "source": [
    "# Adding new_players to target team\n",
    "t_team_df = pd.concat([t_team_df,new_players_df])\n",
    "#t_team_df"
   ]
  },
  {
   "cell_type": "code",
   "execution_count": 54,
   "id": "51782239",
   "metadata": {},
   "outputs": [
    {
     "data": {
      "text/plain": [
       "665.749292374615"
      ]
     },
     "execution_count": 54,
     "metadata": {},
     "output_type": "execute_result"
    }
   ],
   "source": [
    "# checking difference with new players\n",
    "t_team_df['p_sum'].sum() / s_f"
   ]
  },
  {
   "cell_type": "markdown",
   "id": "c67aa654",
   "metadata": {},
   "source": [
    "We can see how the team improves its score in the ranking by changing its players that have a higher probability of failure for others that have a lower probability of failure but not below or above the average  \n",
    "\n",
    "The score could be improved by replacing the players with others who have a P(f) in the average or lower"
   ]
  },
  {
   "cell_type": "markdown",
   "id": "dcefad3f",
   "metadata": {},
   "source": [
    "# *******************"
   ]
  },
  {
   "cell_type": "code",
   "execution_count": null,
   "id": "f2bdd4d8",
   "metadata": {},
   "outputs": [],
   "source": []
  },
  {
   "cell_type": "code",
   "execution_count": null,
   "id": "1a27b724",
   "metadata": {},
   "outputs": [],
   "source": []
  },
  {
   "cell_type": "code",
   "execution_count": null,
   "id": "c4bde81f",
   "metadata": {},
   "outputs": [],
   "source": []
  },
  {
   "cell_type": "code",
   "execution_count": null,
   "id": "e60bc0ba",
   "metadata": {},
   "outputs": [],
   "source": []
  },
  {
   "cell_type": "code",
   "execution_count": null,
   "id": "feba615e",
   "metadata": {},
   "outputs": [],
   "source": []
  },
  {
   "cell_type": "code",
   "execution_count": null,
   "id": "374af0b0",
   "metadata": {},
   "outputs": [],
   "source": []
  },
  {
   "cell_type": "code",
   "execution_count": null,
   "id": "948fd02a",
   "metadata": {},
   "outputs": [],
   "source": []
  },
  {
   "cell_type": "code",
   "execution_count": null,
   "id": "a42070e8",
   "metadata": {},
   "outputs": [],
   "source": []
  },
  {
   "cell_type": "code",
   "execution_count": null,
   "id": "c72eadc9",
   "metadata": {},
   "outputs": [],
   "source": []
  },
  {
   "cell_type": "code",
   "execution_count": null,
   "id": "1f19f541",
   "metadata": {},
   "outputs": [],
   "source": []
  },
  {
   "cell_type": "code",
   "execution_count": null,
   "id": "d53e071c",
   "metadata": {},
   "outputs": [],
   "source": []
  },
  {
   "cell_type": "code",
   "execution_count": null,
   "id": "b027e838",
   "metadata": {},
   "outputs": [],
   "source": []
  },
  {
   "cell_type": "code",
   "execution_count": null,
   "id": "d9d0453f",
   "metadata": {},
   "outputs": [],
   "source": []
  },
  {
   "cell_type": "code",
   "execution_count": null,
   "id": "4f22257a",
   "metadata": {},
   "outputs": [],
   "source": []
  },
  {
   "cell_type": "code",
   "execution_count": null,
   "id": "0ca4090a",
   "metadata": {},
   "outputs": [],
   "source": []
  },
  {
   "cell_type": "code",
   "execution_count": 55,
   "id": "27feadc7",
   "metadata": {},
   "outputs": [
    {
     "name": "stderr",
     "output_type": "stream",
     "text": [
      "/tmp/ipykernel_6364/1384328773.py:11: FutureWarning: The default value of numeric_only in DataFrame.quantile is deprecated. In a future version, it will default to False. Select only valid columns or specify the value of numeric_only to silence this warning.\n",
      "  plt.axis([0, pro_df.quantile(q=q).p_sum * s_f, 0, 10])\n"
     ]
    },
    {
     "data": {
      "image/png": "[encoded data removed]",
      "text/plain": [
       "<Figure size 640x480 with 1 Axes>"
      ]
     },
     "metadata": {},
     "output_type": "display_data"
    }
   ],
   "source": [
    "player_mean = df.describe().iloc[1]['p_sum_scaled']\n",
    "y0 = [np.interp(player_mean,x * s_f,density(x))]\n",
    "x0 = [player_mean]\n",
    "p_sum = get_metric_value(week1,s_f)['p_sum_scaled'][0]\n",
    "plt.title('mean of P(f) of the player within the distribution')\n",
    "plt.xlabel('Probability of failure \"P(f)\"')\n",
    "plt.ylabel('Density')\n",
    "plt.plot(x * s_f, density(x))\n",
    "plt.plot(x0,y0,'ro')\n",
    "plt.legend(['P(f) distribution with scale factor',\"Mean of player's P(f)\"])\n",
    "plt.axis([0, pro_df.quantile(q=q).p_sum * s_f, 0, 10])\n",
    "plt.show()"
   ]
  },
  {
   "cell_type": "code",
   "execution_count": 56,
   "id": "68a1ae42",
   "metadata": {},
   "outputs": [
    {
     "ename": "NameError",
     "evalue": "name 'aux_s' is not defined",
     "output_type": "error",
     "traceback": [
      "\u001b[0;31m---------------------------------------------------------------------------\u001b[0m",
      "\u001b[0;31mNameError\u001b[0m                                 Traceback (most recent call last)",
      "Cell \u001b[0;32mIn[56], line 1\u001b[0m\n\u001b[0;32m----> 1\u001b[0m bp \u001b[38;5;241m=\u001b[39m plt\u001b[38;5;241m.\u001b[39mboxplot(\u001b[43maux_s\u001b[49m[\u001b[38;5;124m'\u001b[39m\u001b[38;5;124mp_sum\u001b[39m\u001b[38;5;124m'\u001b[39m])\n",
      "\u001b[0;31mNameError\u001b[0m: name 'aux_s' is not defined"
     ]
    }
   ],
   "source": [
    "bp = plt.boxplot(aux_s['p_sum'])"
   ]
  },
  {
   "cell_type": "code",
   "execution_count": null,
   "id": "5670f23c",
   "metadata": {},
   "outputs": [],
   "source": [
    "bp.keys()"
   ]
  },
  {
   "cell_type": "code",
   "execution_count": null,
   "id": "e7ebdaa5",
   "metadata": {},
   "outputs": [],
   "source": [
    "bp['medians'][0].get_ydata()"
   ]
  },
  {
   "cell_type": "code",
   "execution_count": null,
   "id": "ce466e39",
   "metadata": {},
   "outputs": [],
   "source": [
    "bp['caps'][0].get_ydata()"
   ]
  },
  {
   "cell_type": "code",
   "execution_count": null,
   "id": "3a70d75d",
   "metadata": {},
   "outputs": [],
   "source": [
    "bp['caps'][1].get_ydata()"
   ]
  },
  {
   "cell_type": "code",
   "execution_count": null,
   "id": "eac0b848",
   "metadata": {},
   "outputs": [],
   "source": [
    "testt = aux_s[aux_s['p_sum'] <= 0.61]"
   ]
  },
  {
   "cell_type": "code",
   "execution_count": null,
   "id": "cabbaea5",
   "metadata": {},
   "outputs": [],
   "source": []
  },
  {
   "cell_type": "code",
   "execution_count": null,
   "id": "b3c3c49d",
   "metadata": {},
   "outputs": [],
   "source": [
    "density = stats.gaussian_kde(testt['p_sum'])\n",
    "a = testt['p_sum'].tolist()\n",
    "bins = np.linspace(0, 1, 400)\n",
    "n, x = np.histogram(np.array(a), bins,density=True)"
   ]
  },
  {
   "cell_type": "code",
   "execution_count": null,
   "id": "40a0cfcf",
   "metadata": {},
   "outputs": [],
   "source": [
    "player_mean = df.describe().iloc[1]['p_sum_scaled']\n",
    "y0 = [np.interp(player_mean,x * s_f,density(x))]\n",
    "x0 = [player_mean]\n",
    "p_sum = get_metric_value(week1,s_f)['p_sum_scaled'][0]\n",
    "plt.title('mean of P(f) of the player within the distribution')\n",
    "plt.xlabel('Probability of failure \"P(f)\"')\n",
    "plt.ylabel('Density')\n",
    "plt.plot(x * s_f, density(x))\n",
    "plt.plot(x0,y0,'ro')\n",
    "plt.legend(['P(f) distribution with scale factor',\"Mean of player's P(f)\"])\n",
    "plt.axis([0, pro_df.quantile(q=q).p_sum * s_f, 0, 10])\n",
    "plt.show()"
   ]
  },
  {
   "cell_type": "code",
   "execution_count": null,
   "id": "a99f3d18",
   "metadata": {},
   "outputs": [],
   "source": [
    "bpt = plt.boxplot(testt['p_sum'])"
   ]
  },
  {
   "cell_type": "code",
   "execution_count": null,
   "id": "4e5e075d",
   "metadata": {},
   "outputs": [],
   "source": []
  }
 ],
 "metadata": {
  "kernelspec": {
   "display_name": "Python 3 (ipykernel)",
   "language": "python",
   "name": "python3"
  },
  "language_info": {
   "codemirror_mode": {
    "name": "ipython",
    "version": 3
   },
   "file_extension": ".py",
   "mimetype": "text/x-python",
   "name": "python",
   "nbconvert_exporter": "python",
   "pygments_lexer": "ipython3",
   "version": "3.9.2"
  }
 },
 "nbformat": 4,
 "nbformat_minor": 5
}
