{
 "cells": [
  {
   "cell_type": "code",
   "execution_count": 151,
   "id": "1d2e33ca",
   "metadata": {},
   "outputs": [],
   "source": [
    "import pandas as pd\n",
    "import os\n",
    "import matplotlib.pyplot as plt\n",
    "import numpy as np\n",
    "import scipy.stats as stats\n",
    "from sklearn.cluster import KMeans\n",
    "import warnings\n",
    "warnings.filterwarnings('ignore')\n",
    "files_path = './data/'"
   ]
  },
  {
   "cell_type": "code",
   "execution_count": 2,
   "id": "c5dc2529",
   "metadata": {},
   "outputs": [],
   "source": [
    "# get all probabilities with foul\n",
    "def make_players_prob_df(df):\n",
    "    # filtrado para tener solo linea defensiva\n",
    "    df = df[df.pff_role == 'Pass Block']\n",
    "    # get all player's id\n",
    "    #players = df.nflId.tolist()\n",
    "    players = pd.unique(df.nflId)\n",
    "    p_df = pd.DataFrame(columns=['nflId','pff_beatenByDefender_P','pff_hitAllowed_P','pff_hurryAllowed_P','pff_sackAllowed_P','foul1','foul2','foul3'])\n",
    "    for player in players:\n",
    "        aux = df[df.nflId == player]\n",
    "        aux = aux.drop_duplicates(subset=['playId'])\n",
    "        aux = aux[['pff_beatenByDefender','pff_hitAllowed','pff_hurryAllowed','pff_sackAllowed','foul1','foul2','foul3']]\n",
    "        p_aux = pd.DataFrame({'nflId':player,\n",
    "                             'pff_beatenByDefender_P':aux.pff_beatenByDefender.sum()/aux.shape[0],\n",
    "                             'pff_hitAllowed_P':aux.pff_hitAllowed.sum()/aux.shape[0],\n",
    "                             'pff_hurryAllowed_P':aux.pff_hurryAllowed.sum()/aux.shape[0],\n",
    "                             'pff_sackAllowed_P':aux.pff_sackAllowed.sum()/aux.shape[0],\n",
    "                             'foul1':aux.foul1.sum()/aux.shape[0],\n",
    "                             'foul2':aux.foul2.sum()/aux.shape[0],\n",
    "                             'foul3':aux.foul3.sum()/aux.shape[0]\n",
    "                              },index=[0])\n",
    "        p_df = pd.concat([p_df,p_aux])\n",
    "    return p_df"
   ]
  },
  {
   "cell_type": "code",
   "execution_count": 3,
   "id": "15449d35",
   "metadata": {},
   "outputs": [],
   "source": [
    "# function to get final value\n",
    "def get_metric_value(df,sf):\n",
    "    '''inputs: \n",
    "        df -> dataframe with 'pff_beatenByDefender_P','pff_hitAllowed_P','pff_hurryAllowed_P','pff_sackAllowed_P','foul1','foul2','foul3' columns\n",
    "        sf -> scale factor value\n",
    "    '''\n",
    "    aux = make_players_prob_df(df)\n",
    "    aux['p_sum'] = aux[['pff_beatenByDefender_P','pff_hitAllowed_P','pff_hurryAllowed_P','pff_sackAllowed_P','foul1','foul2','foul3']].sum(axis=1)\n",
    "    aux['p_sum_scaled'] = aux['p_sum']*sf\n",
    "    return aux"
   ]
  },
  {
   "cell_type": "code",
   "execution_count": 5,
   "id": "b45bf2d1",
   "metadata": {},
   "outputs": [],
   "source": [
    "def set_level(olpf):\n",
    "    if olpf <= max_psum and olpf >=end_medium:\n",
    "        level = 'HIGH'\n",
    "    elif olpf <= end_medium and olpf >=start_medium:\n",
    "        level = 'MEDIUM'\n",
    "    elif olpf <= start_medium and olpf >=min_psum:\n",
    "        level = 'LOW'\n",
    "    return level"
   ]
  },
  {
   "cell_type": "code",
   "execution_count": 123,
   "id": "912509ec",
   "metadata": {},
   "outputs": [],
   "source": [
    "#os.listdir(files_path)\n",
    "df_all = pd.read_csv(files_path+'pffScoutingData.csv')\n",
    "df_p = pd.read_csv(files_path+'plays.csv')\n",
    "player_df = pd.read_csv(files_path+'players.csv')"
   ]
  },
  {
   "cell_type": "markdown",
   "id": "16d56369",
   "metadata": {},
   "source": [
    "# Big Data Bowl 2023  \n",
    "\n",
    "## Offensive Line Probability of Failure\n",
    "\n",
    "How do we know if a player on the offensive line is as good as we need? We can evaluate a player if he has a good performance, if a player can stop defense most of the time. With this, we know that the player will miss some occasions, but, how many misses are enough? How do we know if a player has an acceptable, poor or outstanding performance?\n",
    "\n",
    "With Offensive Line Probability of Failure (OLPF) we can know the performance of every offensive player on the line.\n",
    "\n",
    "OLPF is a metric that evaluates the performance of offensive line players in a game or even in a season. Taking all plays in a game and evaluating if a play performed well or poorly based on some variables that all players on the line have."
   ]
  },
  {
   "cell_type": "markdown",
   "id": "da0f9ff3",
   "metadata": {},
   "source": [
    "## Objectives\n",
    "   \n",
    "   * Evaluate the probability of failure of individual players to know the performance during one or more games  \n",
    "   * Know the distribution of the players of a team based on the probability of failure (OLPF) of the players that make up the team"
   ]
  },
  {
   "cell_type": "markdown",
   "id": "742279cc",
   "metadata": {},
   "source": [
    "# Variables Used\n",
    " To calculate OLPF (Ofensive Line Probability Failure), we will use all data containing information about each fail play of every player. To know if play counts as fail to player, we will take every time a player allowed a sack, hit or hurry.  \n",
    "\n",
    "Also, we will take if player where beaten by defender or if player made a foul, although it means the play did not end as sack, hurry or hit, it means that offensive line player failed to achieve the goal of his position.  \n",
    "\n",
    "All data used takes only two values, 1 if is true; 0 if is false.  \n",
    "  \n",
    "<font size=\"4\">**HTA - Hit Allowed**</font>\n",
    "   * Indicator for whether a player is responsible for a hit on the QB\n",
    " \n",
    "\n",
    "<font size=\"4\">**HYA - Hurry Allowed**</font>\n",
    "\n",
    "\n",
    "   * Indicator for whether a player is responsible for a hurry on the QB\n",
    "  \n",
    "<font size=\"4\">**SKA - Sack Allowed** </font>\n",
    "\n",
    "   * Indicator for whether a player is responsible for a sack on the QB\n",
    " \n",
    "\n",
    "<font size=\"4\"> **F1 - Foul1** </font>\n",
    "\n",
    "   * If player committed first foul during the play\n",
    " \n",
    "  \n",
    "<font size=\"4\"> **F2 - Foul2** </font>\n",
    "\n",
    "   * If player committed second foul during the play\n",
    " \n",
    "   \n",
    "<font size=\"4\"> **F3 - Foul3**</font>\n",
    "\n",
    "   * If player commits a thirt foul during the play\n",
    "     \n"
   ]
  },
  {
   "cell_type": "code",
   "execution_count": 124,
   "id": "3d989dc8",
   "metadata": {},
   "outputs": [],
   "source": [
    "# adding foul name and nflid\n",
    "for i in range(1,4):\n",
    "    foul_name = 'foulName'+str(i)\n",
    "    foul_nflid =  'foulNFLId'+str(i)\n",
    "    poss_team = 'possessionTeam'+str(i)\n",
    "    #aux_p = df_p[['playId',foul_name,foul_nflid]]  \n",
    "    aux_p = df_p[['playId','possessionTeam',foul_name,foul_nflid]]  \n",
    "    aux_p = aux_p.rename(columns={'possessionTeam':poss_team})\n",
    "    aux_p = aux_p[aux_p.playId.isin(df_all.playId.tolist())]\n",
    "    df_all = df_all.merge(aux_p,how='left',left_on=['playId','nflId'],right_on=['playId',foul_nflid])"
   ]
  },
  {
   "cell_type": "code",
   "execution_count": 125,
   "id": "75b779ca",
   "metadata": {},
   "outputs": [],
   "source": [
    "df_all['foulName1'] = df_all['foulName1'].fillna('')\n",
    "df_all['foulName2'] = df_all['foulName2'].fillna('')\n",
    "df_all['foulName3'] = df_all['foulName3'].fillna('')\n",
    "df_all['foul1'] = df_all.apply(lambda x: 0 if x['foulName1']=='' else 1, axis=1)\n",
    "df_all['foul2'] = df_all.apply(lambda x: 0 if x['foulName2']=='' else 1, axis=1)\n",
    "df_all['foul3'] = df_all.apply(lambda x: 0 if x['foulName3']=='' else 1, axis=1)"
   ]
  },
  {
   "cell_type": "markdown",
   "id": "0c28469e",
   "metadata": {},
   "source": [
    "## Criteria:\n",
    "   * Scale factor must consider at least 95% of probability of failure of all players  \n",
    "   * Player must have at least 30 registered plays  \n",
    "   * All plays must be unique for each player  \n",
    "   * All data must be from offensive fully blocking a defender\n",
    " "
   ]
  },
  {
   "cell_type": "code",
   "execution_count": 126,
   "id": "af8fe0c9",
   "metadata": {},
   "outputs": [],
   "source": [
    "# selecting data that complies with the conditions of use\n",
    "df_all = df_all.drop_duplicates(subset=['nflId','playId'],keep='last')\n",
    "df_aux = df_all.nflId.value_counts().rename_axis('nflId').reset_index(name='counts')\n",
    "df_aux = df_aux[df_aux.counts > 30]\n",
    "\n",
    "df_all = df_all[df_all.nflId.isin(df_aux.nflId.tolist())]\n",
    "df_all = df_all[df_all.pff_role == 'Pass Block']"
   ]
  },
  {
   "cell_type": "markdown",
   "id": "0b59a46f",
   "metadata": {},
   "source": [
    "## Model\n",
    "\n",
    "A simple model was generated using all plays where the target player was to get the probability of miss in every variable. Since all variables are mutually exclusive events, the offensive line probability of failure metric ***OLPF*** is the sum of all probabilities as is shown in the formula below.\n"
   ]
  },
  {
   "cell_type": "markdown",
   "id": "77973825",
   "metadata": {},
   "source": [
    "$$OLPF = \\left ( P(HTA) + P(HYA) + P(SKA) + P(F1) + P(F2) + P(F3) \\right ) \\ast \\beta $$"
   ]
  },
  {
   "cell_type": "markdown",
   "id": "fc4a8783",
   "metadata": {},
   "source": [
    "In terms of total plays and their results, the formula can be expressed as below  \n",
    "\n",
    "$$OLPF = \\left ( \\frac{HTA}{TP} + \\frac{HYA}{TP} + \\frac{SKA}{TP} + \\frac{F1}{TP} + \\frac{F2}{TP} + \\frac{F3}{TP} \\right )\\ast \\beta $$"
   ]
  },
  {
   "cell_type": "markdown",
   "id": "a882195e",
   "metadata": {},
   "source": [
    "where $\\beta$ is a scale factor"
   ]
  },
  {
   "cell_type": "code",
   "execution_count": 127,
   "id": "66b93cb7",
   "metadata": {},
   "outputs": [],
   "source": [
    "df = df_all\n",
    "pro_df = make_players_prob_df(df)\n",
    "pro_df['p_sum'] = pro_df[['pff_beatenByDefender_P','pff_hitAllowed_P','pff_hurryAllowed_P','pff_sackAllowed_P','foul1','foul2','foul3']].sum(axis=1)"
   ]
  },
  {
   "cell_type": "markdown",
   "id": "4691dbfb",
   "metadata": {},
   "source": [
    "## Selecting Scale Factor  \n",
    "\n",
    "Scale factor will be used to show the metric in a range between 0 to 10  \n",
    "  \n",
    "  \n",
    "We will get the value of scale factor with a simple formula  \n",
    "  \n",
    "$$\\beta = \\frac{1}{q} * 100$$  \n",
    "\n",
    "where ***q***  is maximum value until selected percentage of data\n"
   ]
  },
  {
   "cell_type": "code",
   "execution_count": 128,
   "id": "56d5cbcf",
   "metadata": {
    "collapsed": true
   },
   "outputs": [
    {
     "data": {
      "image/png": "[encoded data removed]",
      "text/plain": [
       "<Figure size 640x480 with 1 Axes>"
      ]
     },
     "metadata": {},
     "output_type": "display_data"
    }
   ],
   "source": [
    "# Deleting outliers to get scale factor value\n",
    "bp = plt.boxplot(pro_df['p_sum'],showfliers=False)\n",
    "maxx = bp['caps'][1].get_ydata()[0]\n",
    "pro_df= pro_df[pro_df['p_sum'] <= maxx]"
   ]
  },
  {
   "cell_type": "code",
   "execution_count": 152,
   "id": "3c68414d",
   "metadata": {},
   "outputs": [
    {
     "name": "stdout",
     "output_type": "stream",
     "text": [
      "Sclae factor value:  1.0\n"
     ]
    }
   ],
   "source": [
    "# Getting scale factor\n",
    "q = 1 # quantile\n",
    "s_f = (1/pro_df.quantile(q=q).p_sum) * 100\n",
    "print(\"Sclae factor value: \",s_f)"
   ]
  },
  {
   "cell_type": "markdown",
   "id": "73392600",
   "metadata": {},
   "source": [
    "The result of the probability of failure of all players is shown below"
   ]
  },
  {
   "cell_type": "code",
   "execution_count": 130,
   "id": "ae68804c",
   "metadata": {},
   "outputs": [],
   "source": [
    "#pro_df['p_sum'] = pro_df['p_sum'] * s_f\n",
    "pro_df[['pff_beatenByDefender_P', 'pff_hitAllowed_P',\n",
    "       'pff_hurryAllowed_P', 'pff_sackAllowed_P', 'foul1', 'foul2', 'foul3',\n",
    "       'p_sum']] = pro_df[['pff_beatenByDefender_P', 'pff_hitAllowed_P',\n",
    "       'pff_hurryAllowed_P', 'pff_sackAllowed_P', 'foul1', 'foul2', 'foul3',\n",
    "       'p_sum'] ]* s_f"
   ]
  },
  {
   "cell_type": "code",
   "execution_count": 131,
   "id": "e413343e",
   "metadata": {},
   "outputs": [
    {
     "data": {
      "image/png": "[encoded data removed]",
      "text/plain": [
       "<Figure size 640x480 with 1 Axes>"
      ]
     },
     "metadata": {},
     "output_type": "display_data"
    }
   ],
   "source": [
    "bp = plt.boxplot(pro_df['p_sum'],showfliers=False,patch_artist=True)\n",
    "plt.title('OLPF Metric distribution')\n",
    "plt.ylabel('Score')\n",
    "median = bp['medians'][0].get_ydata()\n",
    "max_psum = bp['caps'][1].get_ydata()[0]\n",
    "min_psum = bp['caps'][0].get_ydata()[0]\n",
    "end_medium = bp['whiskers'][1].get_ydata()[0]\n",
    "start_medium = bp['whiskers'][0].get_ydata()[0]"
   ]
  },
  {
   "cell_type": "markdown",
   "id": "61034095",
   "metadata": {},
   "source": [
    "In this case that we are measuring a metric of player failures, we can use a box plot to take advantage of the ranges shown and use them as indicators as described below."
   ]
  },
  {
   "cell_type": "markdown",
   "id": "747da93d",
   "metadata": {},
   "source": [
    "**Levels of OLPF**  \n",
    "\n",
    "**Low**\n",
    "   * When OLPF is in the range of Lowest general Score to Q1, this means the performance was outstanding\n",
    "  \n",
    "**Medium**\n",
    "   * When OLPF is in the range of Q1 to Q3, this means the performance was good\n",
    " \n",
    "**High**\n",
    "\n",
    "   * When OLPF is in the range of Q3 to max in general score, this means the performance was poor"
   ]
  },
  {
   "cell_type": "markdown",
   "id": "ecdd973b",
   "metadata": {},
   "source": [
    "## Verifying the number of levels"
   ]
  },
  {
   "cell_type": "markdown",
   "id": "e5b65494",
   "metadata": {},
   "source": [
    "We use the three different areas of the boxplot to create the OLPF levels based on the common use of 3 levels to measure a metric (low, medium and high).\n",
    "But for this case, we must have the levels based on the same information that the data gives us.\n",
    "For that, we will use the elbow technique with kmeans to know the number of clusters (levels) we need for the metric."
   ]
  },
  {
   "cell_type": "code",
   "execution_count": 153,
   "id": "0bdd4d86",
   "metadata": {},
   "outputs": [
    {
     "data": {
      "image/png": "[encoded data removed]",
      "text/plain": [
       "<Figure size 640x480 with 1 Axes>"
      ]
     },
     "metadata": {},
     "output_type": "display_data"
    }
   ],
   "source": [
    "sse = {}\n",
    "sil = []\n",
    "kmax = 10\n",
    "fig = plt.subplots(nrows = 1, ncols = 1)\n",
    "for k in range(1, 10):\n",
    "    kmeans = KMeans(n_clusters=k, max_iter=1000).fit(pro_df['p_sum'].to_numpy().reshape(-1,1))\n",
    "    sse[k] = kmeans.inertia_ \n",
    "plt.plot(list(sse.keys()),list(sse.values()));\n",
    "plt.title('Elbow Method')\n",
    "plt.xlabel(\"k : Number of cluster\")\n",
    "plt.ylabel(\"Sum of Squared Error\")\n",
    "plt.grid()\n",
    "plt.show()"
   ]
  },
  {
   "cell_type": "markdown",
   "id": "87b82457",
   "metadata": {},
   "source": [
    "The graph above show that the sum of squared error changes drastically until have 3 clusters, from there the change is much less, so we can say that the optimum number of clusters is three  \n",
    "\n",
    "Now, let's see where is the position of the clusters"
   ]
  },
  {
   "cell_type": "code",
   "execution_count": 133,
   "id": "e1b0de4f",
   "metadata": {},
   "outputs": [
    {
     "data": {
      "text/html": [
       "<style>#sk-container-id-5 {color: black;background-color: white;}#sk-container-id-5 pre{padding: 0;}#sk-container-id-5 div.sk-toggleable {background-color: white;}#sk-container-id-5 label.sk-toggleable__label {cursor: pointer;display: block;width: 100%;margin-bottom: 0;padding: 0.3em;box-sizing: border-box;text-align: center;}#sk-container-id-5 label.sk-toggleable__label-arrow:before {content: \"▸\";float: left;margin-right: 0.25em;color: #696969;}#sk-container-id-5 label.sk-toggleable__label-arrow:hover:before {color: black;}#sk-container-id-5 div.sk-estimator:hover label.sk-toggleable__label-arrow:before {color: black;}#sk-container-id-5 div.sk-toggleable__content {max-height: 0;max-width: 0;overflow: hidden;text-align: left;background-color: #f0f8ff;}#sk-container-id-5 div.sk-toggleable__content pre {margin: 0.2em;color: black;border-radius: 0.25em;background-color: #f0f8ff;}#sk-container-id-5 input.sk-toggleable__control:checked~div.sk-toggleable__content {max-height: 200px;max-width: 100%;overflow: auto;}#sk-container-id-5 input.sk-toggleable__control:checked~label.sk-toggleable__label-arrow:before {content: \"▾\";}#sk-container-id-5 div.sk-estimator input.sk-toggleable__control:checked~label.sk-toggleable__label {background-color: #d4ebff;}#sk-container-id-5 div.sk-label input.sk-toggleable__control:checked~label.sk-toggleable__label {background-color: #d4ebff;}#sk-container-id-5 input.sk-hidden--visually {border: 0;clip: rect(1px 1px 1px 1px);clip: rect(1px, 1px, 1px, 1px);height: 1px;margin: -1px;overflow: hidden;padding: 0;position: absolute;width: 1px;}#sk-container-id-5 div.sk-estimator {font-family: monospace;background-color: #f0f8ff;border: 1px dotted black;border-radius: 0.25em;box-sizing: border-box;margin-bottom: 0.5em;}#sk-container-id-5 div.sk-estimator:hover {background-color: #d4ebff;}#sk-container-id-5 div.sk-parallel-item::after {content: \"\";width: 100%;border-bottom: 1px solid gray;flex-grow: 1;}#sk-container-id-5 div.sk-label:hover label.sk-toggleable__label {background-color: #d4ebff;}#sk-container-id-5 div.sk-serial::before {content: \"\";position: absolute;border-left: 1px solid gray;box-sizing: border-box;top: 0;bottom: 0;left: 50%;z-index: 0;}#sk-container-id-5 div.sk-serial {display: flex;flex-direction: column;align-items: center;background-color: white;padding-right: 0.2em;padding-left: 0.2em;position: relative;}#sk-container-id-5 div.sk-item {position: relative;z-index: 1;}#sk-container-id-5 div.sk-parallel {display: flex;align-items: stretch;justify-content: center;background-color: white;position: relative;}#sk-container-id-5 div.sk-item::before, #sk-container-id-5 div.sk-parallel-item::before {content: \"\";position: absolute;border-left: 1px solid gray;box-sizing: border-box;top: 0;bottom: 0;left: 50%;z-index: -1;}#sk-container-id-5 div.sk-parallel-item {display: flex;flex-direction: column;z-index: 1;position: relative;background-color: white;}#sk-container-id-5 div.sk-parallel-item:first-child::after {align-self: flex-end;width: 50%;}#sk-container-id-5 div.sk-parallel-item:last-child::after {align-self: flex-start;width: 50%;}#sk-container-id-5 div.sk-parallel-item:only-child::after {width: 0;}#sk-container-id-5 div.sk-dashed-wrapped {border: 1px dashed gray;margin: 0 0.4em 0.5em 0.4em;box-sizing: border-box;padding-bottom: 0.4em;background-color: white;}#sk-container-id-5 div.sk-label label {font-family: monospace;font-weight: bold;display: inline-block;line-height: 1.2em;}#sk-container-id-5 div.sk-label-container {text-align: center;}#sk-container-id-5 div.sk-container {/* jupyter's `normalize.less` sets `[hidden] { display: none; }` but bootstrap.min.css set `[hidden] { display: none !important; }` so we also need the `!important` here to be able to override the default hidden behavior on the sphinx rendered scikit-learn.org. See: https://github.com/scikit-learn/scikit-learn/issues/21755 */display: inline-block !important;position: relative;}#sk-container-id-5 div.sk-text-repr-fallback {display: none;}</style><div id=\"sk-container-id-5\" class=\"sk-top-container\"><div class=\"sk-text-repr-fallback\"><pre>KMeans(n_clusters=3, n_init=25, random_state=123)</pre><b>In a Jupyter environment, please rerun this cell to show the HTML representation or trust the notebook. <br />On GitHub, the HTML representation is unable to render, please try loading this page with nbviewer.org.</b></div><div class=\"sk-container\" hidden><div class=\"sk-item\"><div class=\"sk-estimator sk-toggleable\"><input class=\"sk-toggleable__control sk-hidden--visually\" id=\"sk-estimator-id-5\" type=\"checkbox\" checked><label for=\"sk-estimator-id-5\" class=\"sk-toggleable__label sk-toggleable__label-arrow\">KMeans</label><div class=\"sk-toggleable__content\"><pre>KMeans(n_clusters=3, n_init=25, random_state=123)</pre></div></div></div></div></div>"
      ],
      "text/plain": [
       "KMeans(n_clusters=3, n_init=25, random_state=123)"
      ]
     },
     "execution_count": 133,
     "metadata": {},
     "output_type": "execute_result"
    }
   ],
   "source": [
    "modelo_kmeans = KMeans(n_clusters=3, n_init=25, random_state=123)\n",
    "modelo_kmeans.fit(pro_df['p_sum'].to_numpy().reshape(-1,1))\n",
    "#modelo_kmeans.cluster_centers_"
   ]
  },
  {
   "cell_type": "code",
   "execution_count": 134,
   "id": "03c54d14",
   "metadata": {},
   "outputs": [
    {
     "data": {
      "text/plain": [
       "Text(0, 0.5, 'Score')"
      ]
     },
     "execution_count": 134,
     "metadata": {},
     "output_type": "execute_result"
    },
    {
     "data": {
      "image/png": "[encoded data removed]",
      "text/plain": [
       "<Figure size 640x480 with 1 Axes>"
      ]
     },
     "metadata": {},
     "output_type": "display_data"
    }
   ],
   "source": [
    "plt.boxplot(pro_df['p_sum'].to_numpy().reshape(-1,1),showfliers=False,patch_artist=True)\n",
    "plt.plot(np.ones(3),modelo_kmeans.cluster_centers_,'ro')\n",
    "plt.title('Clusters of OLPF')\n",
    "plt.ylabel('Score')"
   ]
  },
  {
   "cell_type": "markdown",
   "id": "c4c29f9f",
   "metadata": {},
   "source": [
    "## Using the model"
   ]
  },
  {
   "cell_type": "markdown",
   "id": "3bce31ff",
   "metadata": {},
   "source": [
    "### Rating player performance"
   ]
  },
  {
   "cell_type": "markdown",
   "id": "971e6520",
   "metadata": {},
   "source": [
    "In this case of use we will check the OLPF in a week and in 8 weeks"
   ]
  },
  {
   "cell_type": "markdown",
   "id": "0ebe1f33",
   "metadata": {},
   "source": [
    "#### Performance in week 1"
   ]
  },
  {
   "cell_type": "code",
   "execution_count": 135,
   "id": "7f5b567c",
   "metadata": {},
   "outputs": [],
   "source": [
    "# Rating player performance first week\n",
    "df_w = pd.read_csv(files_path+'week1.csv')"
   ]
  },
  {
   "cell_type": "code",
   "execution_count": 136,
   "id": "f7c4df06",
   "metadata": {},
   "outputs": [
    {
     "data": {
      "text/html": [
       "<div>\n",
       "<style scoped>\n",
       "    .dataframe tbody tr th:only-of-type {\n",
       "        vertical-align: middle;\n",
       "    }\n",
       "\n",
       "    .dataframe tbody tr th {\n",
       "        vertical-align: top;\n",
       "    }\n",
       "\n",
       "    .dataframe thead th {\n",
       "        text-align: right;\n",
       "    }\n",
       "</style>\n",
       "<table border=\"1\" class=\"dataframe\">\n",
       "  <thead>\n",
       "    <tr style=\"text-align: right;\">\n",
       "      <th></th>\n",
       "      <th>nflId</th>\n",
       "      <th>height</th>\n",
       "      <th>weight</th>\n",
       "      <th>birthDate</th>\n",
       "      <th>collegeName</th>\n",
       "      <th>officialPosition</th>\n",
       "      <th>displayName</th>\n",
       "    </tr>\n",
       "  </thead>\n",
       "  <tbody>\n",
       "    <tr>\n",
       "      <th>1507</th>\n",
       "      <td>53471</td>\n",
       "      <td>6-6</td>\n",
       "      <td>308</td>\n",
       "      <td>NaN</td>\n",
       "      <td>NaN</td>\n",
       "      <td>T</td>\n",
       "      <td>Liam Eichenberg</td>\n",
       "    </tr>\n",
       "  </tbody>\n",
       "</table>\n",
       "</div>"
      ],
      "text/plain": [
       "      nflId height  weight birthDate collegeName officialPosition  \\\n",
       "1507  53471    6-6     308       NaN         NaN                T   \n",
       "\n",
       "          displayName  \n",
       "1507  Liam Eichenberg  "
      ]
     },
     "execution_count": 136,
     "metadata": {},
     "output_type": "execute_result"
    }
   ],
   "source": [
    "# target player\n",
    "player_df[player_df.nflId == 53471]"
   ]
  },
  {
   "cell_type": "code",
   "execution_count": 137,
   "id": "0b97677e",
   "metadata": {},
   "outputs": [],
   "source": [
    "# getting all playId from week1 with nflId\n",
    "w1_plays = pd.unique(df_w[df_w.nflId == 53471]['playId']).tolist()\n",
    "# extract pffScoutingData with all playIds \n",
    "week1 = df_all[(df_all.playId.isin(w1_plays)) & (df_all.nflId == 53471 )]"
   ]
  },
  {
   "cell_type": "code",
   "execution_count": 138,
   "id": "cfefedcc",
   "metadata": {},
   "outputs": [
    {
     "data": {
      "text/plain": [
       "[68.42105263157895]"
      ]
     },
     "execution_count": 138,
     "metadata": {},
     "output_type": "execute_result"
    }
   ],
   "source": [
    "p_sum = get_metric_value(week1,s_f)['p_sum_scaled'][0]\n",
    "p_sum = [p_sum]\n",
    "p_sum"
   ]
  },
  {
   "cell_type": "code",
   "execution_count": 139,
   "id": "2cd90e9e",
   "metadata": {},
   "outputs": [
    {
     "data": {
      "image/png": "[encoded data removed]",
      "text/plain": [
       "<Figure size 640x480 with 1 Axes>"
      ]
     },
     "metadata": {},
     "output_type": "display_data"
    }
   ],
   "source": [
    "plt.boxplot(pro_df['p_sum'].to_numpy().reshape(-1,1),showfliers=False,patch_artist=True)\n",
    "plt.plot(np.ones(len(p_sum)),p_sum,'ro')\n",
    "plt.title(\"Player's OLPF level\")\n",
    "plt.ylabel('Score')\n",
    "plt.show()"
   ]
  },
  {
   "cell_type": "markdown",
   "id": "a3175da3",
   "metadata": {},
   "source": [
    "**How to read**  \n",
    "\n",
    "As we can see, metric of target player is in high section, this means that player had a bad performance in target week  \n",
    "\n",
    "To this metric, we want score as low as possible to be a outstanding player, but if the OLPF falls into medium level (and it will be like this most of the time) it's also good"
   ]
  },
  {
   "cell_type": "markdown",
   "id": "9f0a6d59",
   "metadata": {},
   "source": [
    "#### Performance in 8 weeks"
   ]
  },
  {
   "cell_type": "code",
   "execution_count": 140,
   "id": "9f4d1fef",
   "metadata": {},
   "outputs": [],
   "source": [
    "weeks_df_list = list()\n",
    "nflid = 53471\n",
    "for i in range(1,9):\n",
    "    df = pd.read_csv(files_path+'week'+str(i)+'.csv')\n",
    "    df = df[df.nflId == nflid]\n",
    "    # getting all playId from week1 with nflId\n",
    "    w_plays = pd.unique(df[df.nflId == nflid]['playId']).tolist()\n",
    "    # extract pffScoutingData with all playIds \n",
    "    week = df_all[(df_all.playId.isin(w_plays)) & (df_all.nflId == nflid )]\n",
    "    df = get_metric_value(week,s_f)['p_sum_scaled'].to_frame()\n",
    "    df['week'] = i\n",
    "    weeks_df_list.append(df)\n",
    "    if i == 8:\n",
    "        df = pd.concat(weeks_df_list)\n",
    "        \n",
    "        "
   ]
  },
  {
   "cell_type": "code",
   "execution_count": 141,
   "id": "02805b5c",
   "metadata": {},
   "outputs": [
    {
     "data": {
      "image/png": "[encoded data removed]",
      "text/plain": [
       "<Figure size 640x480 with 1 Axes>"
      ]
     },
     "metadata": {},
     "output_type": "display_data"
    }
   ],
   "source": [
    "plt.plot(df.week,df.p_sum_scaled,'ro')\n",
    "plt.plot(df.week,df.p_sum_scaled)\n",
    "plt.title(r'Player performance during 8 weeks')\n",
    "plt.xlabel('Week')\n",
    "plt.ylabel('Probability of failure (scaled)')\n",
    "plt.show()"
   ]
  },
  {
   "cell_type": "markdown",
   "id": "0a52d295",
   "metadata": {},
   "source": [
    "Player's OLPF (as we can expect) in some cases is better than other ones, but in most cases is a high score, let's see mean"
   ]
  },
  {
   "cell_type": "code",
   "execution_count": 142,
   "id": "42dd9815",
   "metadata": {},
   "outputs": [
    {
     "data": {
      "image/png": "[encoded data removed]",
      "text/plain": [
       "<Figure size 640x480 with 1 Axes>"
      ]
     },
     "metadata": {},
     "output_type": "display_data"
    }
   ],
   "source": [
    "player_mean = df.describe().iloc[1]['p_sum_scaled']\n",
    "#y0 = [np.interp(player_mean,x * s_f,density(x))]\n",
    "x0 = [player_mean]\n",
    "\n",
    "plt.boxplot(pro_df['p_sum'].to_numpy().reshape(-1,1),showfliers=False,patch_artist=True)\n",
    "plt.plot(np.ones(len(x0)),x0,'ro')\n",
    "plt.title(\"Player's OLPF level for 8 weeks\")\n",
    "plt.ylabel('Score')\n",
    "plt.show()"
   ]
  },
  {
   "cell_type": "markdown",
   "id": "0d39ca37",
   "metadata": {},
   "source": [
    "As we can see, the mean for the 8 weeks is **67.8** and this is over the 75% OLPF. With this now we know player needs to improve his performance during plays"
   ]
  },
  {
   "cell_type": "markdown",
   "id": "fed64fe5",
   "metadata": {},
   "source": [
    "### Team players ranking"
   ]
  },
  {
   "cell_type": "code",
   "execution_count": 143,
   "id": "e5b9f43b",
   "metadata": {},
   "outputs": [],
   "source": [
    "test_df = pro_df.copy()"
   ]
  },
  {
   "cell_type": "code",
   "execution_count": 144,
   "id": "a954d4a7",
   "metadata": {},
   "outputs": [],
   "source": [
    "# getting team per nflId\n",
    "for j in range(1,9):\n",
    "    if j==1:\n",
    "        df_w = pd.read_csv(files_path+'week'+str(j)+'.csv')\n",
    "        pass\n",
    "    else:\n",
    "        df_aux = pd.read_csv(files_path+'week'+str(j)+'.csv')\n",
    "    df_w = pd.concat([df_w,df_aux])"
   ]
  },
  {
   "cell_type": "code",
   "execution_count": 145,
   "id": "7f41ea77",
   "metadata": {},
   "outputs": [],
   "source": [
    "df_w = df_w.drop_duplicates(subset=['nflId'],keep='last')\n",
    "df_w = df_w[['nflId','team']]\n",
    "team_p = test_df.merge(df_w,on='nflId')\n",
    "team_p = team_p[~team_p.team.isna()]\n",
    "player_df = player_df[['nflId','displayName']]\n",
    "team_p = team_p.merge(player_df,on='nflId')"
   ]
  },
  {
   "cell_type": "code",
   "execution_count": 146,
   "id": "5d95665a",
   "metadata": {},
   "outputs": [
    {
     "data": {
      "text/html": [
       "<div>\n",
       "<style scoped>\n",
       "    .dataframe tbody tr th:only-of-type {\n",
       "        vertical-align: middle;\n",
       "    }\n",
       "\n",
       "    .dataframe tbody tr th {\n",
       "        vertical-align: top;\n",
       "    }\n",
       "\n",
       "    .dataframe thead th {\n",
       "        text-align: right;\n",
       "    }\n",
       "</style>\n",
       "<table border=\"1\" class=\"dataframe\">\n",
       "  <thead>\n",
       "    <tr style=\"text-align: right;\">\n",
       "      <th></th>\n",
       "      <th>displayName</th>\n",
       "      <th>OLPF</th>\n",
       "    </tr>\n",
       "  </thead>\n",
       "  <tbody>\n",
       "    <tr>\n",
       "      <th>205</th>\n",
       "      <td>Myles Gaskin</td>\n",
       "      <td>79.054054</td>\n",
       "    </tr>\n",
       "    <tr>\n",
       "      <th>202</th>\n",
       "      <td>Liam Eichenberg</td>\n",
       "      <td>67.805755</td>\n",
       "    </tr>\n",
       "    <tr>\n",
       "      <th>198</th>\n",
       "      <td>Jesse Davis</td>\n",
       "      <td>65.909091</td>\n",
       "    </tr>\n",
       "    <tr>\n",
       "      <th>302</th>\n",
       "      <td>Austin Jackson</td>\n",
       "      <td>58.362676</td>\n",
       "    </tr>\n",
       "    <tr>\n",
       "      <th>201</th>\n",
       "      <td>Solomon Kindley</td>\n",
       "      <td>48.750000</td>\n",
       "    </tr>\n",
       "    <tr>\n",
       "      <th>301</th>\n",
       "      <td>Durham Smythe</td>\n",
       "      <td>39.000000</td>\n",
       "    </tr>\n",
       "    <tr>\n",
       "      <th>345</th>\n",
       "      <td>Adam Shaheen</td>\n",
       "      <td>32.500000</td>\n",
       "    </tr>\n",
       "    <tr>\n",
       "      <th>200</th>\n",
       "      <td>Robert Hunt</td>\n",
       "      <td>31.105611</td>\n",
       "    </tr>\n",
       "    <tr>\n",
       "      <th>392</th>\n",
       "      <td>Austin Reiter</td>\n",
       "      <td>29.545455</td>\n",
       "    </tr>\n",
       "    <tr>\n",
       "      <th>199</th>\n",
       "      <td>Michael Deiter</td>\n",
       "      <td>22.608696</td>\n",
       "    </tr>\n",
       "    <tr>\n",
       "      <th>358</th>\n",
       "      <td>Greg Mancz</td>\n",
       "      <td>19.782609</td>\n",
       "    </tr>\n",
       "    <tr>\n",
       "      <th>206</th>\n",
       "      <td>Malcolm Brown</td>\n",
       "      <td>7.558140</td>\n",
       "    </tr>\n",
       "    <tr>\n",
       "      <th>304</th>\n",
       "      <td>Salvon Ahmed</td>\n",
       "      <td>0.000000</td>\n",
       "    </tr>\n",
       "  </tbody>\n",
       "</table>\n",
       "</div>"
      ],
      "text/plain": [
       "         displayName       OLPF\n",
       "205     Myles Gaskin  79.054054\n",
       "202  Liam Eichenberg  67.805755\n",
       "198      Jesse Davis  65.909091\n",
       "302   Austin Jackson  58.362676\n",
       "201  Solomon Kindley  48.750000\n",
       "301    Durham Smythe  39.000000\n",
       "345     Adam Shaheen  32.500000\n",
       "200      Robert Hunt  31.105611\n",
       "392    Austin Reiter  29.545455\n",
       "199   Michael Deiter  22.608696\n",
       "358       Greg Mancz  19.782609\n",
       "206    Malcolm Brown   7.558140\n",
       "304     Salvon Ahmed   0.000000"
      ]
     },
     "execution_count": 146,
     "metadata": {},
     "output_type": "execute_result"
    }
   ],
   "source": [
    "mia_df = team_p[team_p.team == 'MIA'].sort_values(by='p_sum',ascending=False)[['displayName','p_sum']]\n",
    "mia_df = mia_df.rename(columns={'p_sum':'OLPF'})\n",
    "mia_df"
   ]
  },
  {
   "cell_type": "code",
   "execution_count": 147,
   "id": "97ce1309",
   "metadata": {},
   "outputs": [],
   "source": [
    "mia_df['level'] = ''"
   ]
  },
  {
   "cell_type": "code",
   "execution_count": 148,
   "id": "787df2f0",
   "metadata": {},
   "outputs": [],
   "source": [
    "mia_df['level'] = mia_df.OLPF.map(lambda x: set_level(x))"
   ]
  },
  {
   "cell_type": "code",
   "execution_count": 149,
   "id": "c7173792",
   "metadata": {},
   "outputs": [],
   "source": [
    "mia_pie = mia_df.groupby('level').count()[['displayName']]"
   ]
  },
  {
   "cell_type": "code",
   "execution_count": 150,
   "id": "50dd5420",
   "metadata": {},
   "outputs": [
    {
     "data": {
      "text/plain": [
       "Text(0.5, 1.0, \"Miami player's levels \")"
      ]
     },
     "execution_count": 150,
     "metadata": {},
     "output_type": "execute_result"
    },
    {
     "data": {
      "image/png": "[encoded data removed]",
      "text/plain": [
       "<Figure size 640x480 with 1 Axes>"
      ]
     },
     "metadata": {},
     "output_type": "display_data"
    }
   ],
   "source": [
    "explode = (0.1, 0.1, 0.1)\n",
    "colors = ['red','blue','orange']\n",
    "plt.pie(mia_pie['displayName'].tolist(), explode=explode,labels=mia_pie.index, autopct='%1.1f%%',\n",
    "        shadow=True,colors=colors)\n",
    "plt.title(\"Miami player's levels \")"
   ]
  },
  {
   "cell_type": "markdown",
   "id": "b3a659ad",
   "metadata": {},
   "source": [
    "The chart above shows how the offensive line of the Miami Dolphins is made up of 38.5% of players who fall into a high level of failures in the plays, clearly it would be expected to be at least equal to the percentage of outstanding players to have a strong enough line that can successfully execute plays most of the time"
   ]
  },
  {
   "cell_type": "markdown",
   "id": "9942c071",
   "metadata": {},
   "source": [
    "## Conclusions"
   ]
  },
  {
   "cell_type": "markdown",
   "id": "08b97c53",
   "metadata": {},
   "source": [
    "A metric has been obtained that measures the performance of the offensive line players based on the failures rather than the successes of the plays, this allows having a larger window of information, for example, the fouls committed by the players have been taken into account since the player has not been defeated by a defender and has not allowed a sack, hit or hurry but the play has not been successful and this is due to the foul committed by the player. So the metric is not being biased by the lack of information.\n",
    "\n",
    "For this metric there is a consideration to take into account."
   ]
  },
  {
   "cell_type": "markdown",
   "id": "01b15747",
   "metadata": {},
   "source": [
    "To obtain an accurate score, a sufficient amount of data is needed; in this case a minimum of 30 records were used. This to avoid false scores, for example, if it is applied to players who have only 10 recorded moves and have not had any failure, it would get an outstanding score. This type of bias introduces errors in the analysis when compared with other players where they have 2 or 3 times the number of plays and in which, if they have had some mistakes, they have a lower score than the player with few records."
   ]
  },
  {
   "cell_type": "markdown",
   "id": "f6936241",
   "metadata": {},
   "source": [
    "## Suggested applications"
   ]
  },
  {
   "cell_type": "markdown",
   "id": "bccfe151",
   "metadata": {},
   "source": [
    "* **Choose players.**  \n",
    "    Whether it is the case of new players or in critical plays, having a score of all the players per game and per season helps to better choose which player will take position on the offensive line.\n",
    " \n",
    "* **Get to know the opposing team better**  \n",
    "    Having public data like the ones used by the model, it is possible to know the efficiency of the opposing team's offensive line and to be able to see in which part of it the weakest link is.\n",
    "        \n",
    "* **Get to know the team line better.**  \n",
    "    Having the score of the offensive line players, it is possible to detect which element needs more attention to its game mode."
   ]
  },
  {
   "cell_type": "code",
   "execution_count": null,
   "id": "f492f8e9",
   "metadata": {},
   "outputs": [],
   "source": []
  }
 ],
 "metadata": {
  "kernelspec": {
   "display_name": "Python 3 (ipykernel)",
   "language": "python",
   "name": "python3"
  },
  "language_info": {
   "codemirror_mode": {
    "name": "ipython",
    "version": 3
   },
   "file_extension": ".py",
   "mimetype": "text/x-python",
   "name": "python",
   "nbconvert_exporter": "python",
   "pygments_lexer": "ipython3",
   "version": "3.9.2"
  }
 },
 "nbformat": 4,
 "nbformat_minor": 5
}
